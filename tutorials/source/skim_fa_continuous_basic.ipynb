{
 "cells": [
  {
   "cell_type": "markdown",
   "id": "9ddafc92",
   "metadata": {},
   "source": [
    "# Learning Functional ANOVA Decompositions in FAVA: Continuous Responses\n",
    "\n",
    "In this tutorial, we show how to solve penalized least squares problems of the form\n",
    "\n",
    "$$\\hat{f} = \\arg \\min_{f \\in H} \\sum_{n=1}^N (y^{(n)} - f(x^{(n)}))^2 + \\lambda \\|f\\|_{\\mathcal{H}}^2, $$\n",
    "\n",
    "with SKIM-FA kernels, where $\\mathcal{H}$ consists of the space of interactions of order up to $Q$: \n",
    "\n",
    "$$\\mathcal{H} = \\left\\{f: f = \\sum_{V: |V| \\leq Q} f_V \\right\\} \\quad \\text{s.t.} \\quad \\forall A \\subsetneq B, \\ f_A \\perp_{\\mathcal{H}} f_B.$$\n",
    "\n",
    "\n",
    "## Tutorial Outline\n",
    "\n",
    " - [Setup](#Setup)\n",
    "   - [Simulating Data](#Simulating-data)\n",
    "   - [Splitting Data](#Split-data-into-training-and-validation)\n",
    " \n",
    " \n",
    " - [Fitting SKIM-FA Model](#Fit-SKIM-FA-Model)\n",
    " \n",
    " \n",
    "- [Assessing Quality of Fit](#Assessing-Quality-of-Fit)\n",
    "   - [Predictive Performance vs. Random Forest](#Predictive-performance-vs.-random-forest)\n",
    "   - [Estimated Effects](#Estimated-effects) \n",
    "\n",
    "\n",
    "- [Model Interpretation](#Model-interpretation)\n",
    "   - [Global Covariate Importance](#Global-covariate-importance)\n",
    "   - [Single Datapoint Explanation](#Single-datapoint-explanation)"
   ]
  },
  {
   "cell_type": "markdown",
   "id": "a4d8b672",
   "metadata": {},
   "source": [
    "# Setup\n",
    "\n",
    "We start by importing the required packages in `fava` and `jax`."
   ]
  },
  {
   "cell_type": "code",
   "execution_count": 1,
   "id": "7e1a0755",
   "metadata": {},
   "outputs": [],
   "source": [
    "import jax.numpy as jnp\n",
    "from jax import grad, jit, vmap\n",
    "from jax import random\n",
    "import jax\n",
    "\n",
    "from fava.inference.fit import GaussianSKIMFA\n",
    "from fava.basis.maps import LinearBasis\n",
    "from fava.misc.scheduler import truncScheduler, constantScheduler\n",
    "from fava.misc.logger import GausLogger\n",
    "from fava.decomposers.decomposer import all_subsets\n",
    "from fava.decomposers.tensor_product import TensorProductKernelANOVA, LinearANOVA\n",
    "from fava.plots.waterfall import anova_waterfall\n",
    "from fava.plots.sobol_indcs import sobol_importance"
   ]
  },
  {
   "cell_type": "markdown",
   "id": "7a31fbcb",
   "metadata": {},
   "source": [
    "## Simulating data\n",
    "\n",
    "Below we generate simulated data, where the covariates $x \\in \\mathbb{R}^{100}$ and $y \\in \\mathbb{R}$. We assume that the first 4 covariates drive the response $y$, and the remaining covariates have no influence on the response. Specifically, the $n$th datapoint is generated as follows: $y^{(n)} = x_1^{(n)}x_2^{(n)} + x_2^{(n)}x_3^{(n)} + \\epsilon^{(n)}$, where $\\epsilon^{(n)} \\overset{\\text{i.i.d.}}{\\sim} \\mathcal{N}(0, 1)$ for $1 \\leq n \\leq 500$.\n"
   ]
  },
  {
   "cell_type": "code",
   "execution_count": 2,
   "id": "ca748be8",
   "metadata": {},
   "outputs": [
    {
     "name": "stderr",
     "output_type": "stream",
     "text": [
      "WARNING:absl:No GPU/TPU found, falling back to CPU. (Set TF_CPP_MIN_LOG_LEVEL=0 and rerun for more info.)\n"
     ]
    }
   ],
   "source": [
    "key = random.PRNGKey(0) # set seed\n",
    "N = 500\n",
    "p = 100\n",
    "X = random.normal(key, shape=(N, p))\n",
    "epsilon = random.normal(key, shape=(N, ))\n",
    "Y = X[:, 0] + X[:, 1] + X[:, 2] * X[:, 3] + epsilon"
   ]
  },
  {
   "cell_type": "markdown",
   "id": "d2fa262a",
   "metadata": {},
   "source": [
    "## Split data into training and validation"
   ]
  },
  {
   "cell_type": "code",
   "execution_count": 3,
   "id": "257f982b",
   "metadata": {},
   "outputs": [],
   "source": [
    "# Use 80% of the data for training and 20% for validation\n",
    "X_train = X[:400, :]\n",
    "Y_train = Y[:400]\n",
    "\n",
    "X_valid = X[400:, :]\n",
    "Y_valid = Y[400:]"
   ]
  },
  {
   "cell_type": "markdown",
   "id": "0e5a4343",
   "metadata": {},
   "source": [
    "# Fit SKIM-FA Model\n",
    "\n",
    "Below we initialize SKIM-FA hyperparameters with default values. We run a total of $T=500$ iterations. The parameters that maximize predictive performance on the validation set are selected."
   ]
  },
  {
   "cell_type": "code",
   "execution_count": 4,
   "id": "b8fe0b84",
   "metadata": {},
   "outputs": [
    {
     "name": "stderr",
     "output_type": "stream",
     "text": [
      "\r",
      "  0%|                                                                                                                 | 0/500 [00:00<?, ?it/s]"
     ]
    },
    {
     "name": "stdout",
     "output_type": "stream",
     "text": [
      "============================== Iteration 0/500 ==============================\n",
      "There are 100 covariates selected.\n"
     ]
    },
    {
     "name": "stderr",
     "output_type": "stream",
     "text": [
      "\r",
      "  0%|▏                                                                                                        | 1/500 [00:04<36:46,  4.42s/it]"
     ]
    },
    {
     "name": "stdout",
     "output_type": "stream",
     "text": [
      "MSE (Validation)=2.5803.\n",
      "R2 (Validation)=0.4308.\n",
      "eta=[1.0000176  1.0927966  0.90706474]\n",
      "c=0.2\n"
     ]
    },
    {
     "name": "stderr",
     "output_type": "stream",
     "text": [
      " 20%|████████████████████▌                                                                                  | 100/500 [00:42<02:38,  2.53it/s]"
     ]
    },
    {
     "name": "stdout",
     "output_type": "stream",
     "text": [
      "============================== Iteration 100/500 ==============================\n",
      "There are 100 covariates selected.\n"
     ]
    },
    {
     "name": "stderr",
     "output_type": "stream",
     "text": [
      "\r",
      " 20%|████████████████████▊                                                                                  | 101/500 [00:42<03:15,  2.05it/s]"
     ]
    },
    {
     "name": "stdout",
     "output_type": "stream",
     "text": [
      "MSE (Validation)=1.3841.\n",
      "R2 (Validation)=0.6947.\n",
      "eta=[0.9999887 1.3747737 0.9144955]\n",
      "c=0.2\n"
     ]
    },
    {
     "name": "stderr",
     "output_type": "stream",
     "text": [
      " 40%|█████████████████████████████████████████▏                                                             | 200/500 [01:22<02:00,  2.49it/s]"
     ]
    },
    {
     "name": "stdout",
     "output_type": "stream",
     "text": [
      "============================== Iteration 200/500 ==============================\n",
      "There are 100 covariates selected.\n"
     ]
    },
    {
     "name": "stderr",
     "output_type": "stream",
     "text": [
      "\r",
      " 40%|█████████████████████████████████████████▍                                                             | 201/500 [01:23<02:26,  2.04it/s]"
     ]
    },
    {
     "name": "stdout",
     "output_type": "stream",
     "text": [
      "MSE (Validation)=1.4887.\n",
      "R2 (Validation)=0.6716.\n",
      "eta=[1.0004566 1.4380944 1.1376388]\n",
      "c=0.2\n"
     ]
    },
    {
     "name": "stderr",
     "output_type": "stream",
     "text": [
      " 60%|█████████████████████████████████████████████████████████████▊                                         | 300/500 [02:03<01:20,  2.49it/s]"
     ]
    },
    {
     "name": "stdout",
     "output_type": "stream",
     "text": [
      "============================== Iteration 300/500 ==============================\n",
      "There are 100 covariates selected.\n"
     ]
    },
    {
     "name": "stderr",
     "output_type": "stream",
     "text": [
      "\r",
      " 60%|██████████████████████████████████████████████████████████████                                         | 301/500 [02:04<01:37,  2.04it/s]"
     ]
    },
    {
     "name": "stdout",
     "output_type": "stream",
     "text": [
      "MSE (Validation)=1.7322.\n",
      "R2 (Validation)=0.6179.\n",
      "eta=[1.0039895 1.5636828 1.2282599]\n",
      "c=0.2\n"
     ]
    },
    {
     "name": "stderr",
     "output_type": "stream",
     "text": [
      " 80%|██████████████████████████████████████████████████████████████████████████████████▍                    | 400/500 [02:44<00:39,  2.53it/s]"
     ]
    },
    {
     "name": "stdout",
     "output_type": "stream",
     "text": [
      "============================== Iteration 400/500 ==============================\n",
      "There are 100 covariates selected.\n"
     ]
    },
    {
     "name": "stderr",
     "output_type": "stream",
     "text": [
      "\r",
      " 80%|██████████████████████████████████████████████████████████████████████████████████▌                    | 401/500 [02:44<00:47,  2.08it/s]"
     ]
    },
    {
     "name": "stdout",
     "output_type": "stream",
     "text": [
      "MSE (Validation)=2.0149.\n",
      "R2 (Validation)=0.5555.\n",
      "eta=[1.0111151 1.7499819 1.2703197]\n",
      "c=0.2\n"
     ]
    },
    {
     "name": "stderr",
     "output_type": "stream",
     "text": [
      "100%|███████████████████████████████████████████████████████████████████████████████████████████████████████| 500/500 [03:24<00:00,  2.45it/s]\n"
     ]
    }
   ],
   "source": [
    "kernel_params = dict()\n",
    "Q = 2\n",
    "kernel_params['U_tilde'] = jnp.ones(p)\n",
    "kernel_params['eta'] = jnp.ones(Q+1)\n",
    "\n",
    "hyperparams = dict()\n",
    "hyperparams['sigma_sq'] = .5 * jnp.var(Y)\n",
    "hyperparams['c'] = .2\n",
    "\n",
    "opt_params = dict()\n",
    "opt_params['cg'] = True\n",
    "opt_params['cg_tol'] = .01\n",
    "opt_params['M'] = 100\n",
    "opt_params['gamma'] = .1\n",
    "opt_params['T'] = 500\n",
    "opt_params['scheduler'] = constantScheduler() # we won't get exact sparsity since c is constant\n",
    "featprocessor = LinearBasis(X_train)\n",
    "logger = GausLogger(100)\n",
    "\n",
    "skim = GaussianSKIMFA(X_train, Y_train, X_valid, Y_valid, featprocessor)\n",
    "\n",
    "skim.fit(key, hyperparams, kernel_params, opt_params, \n",
    "            logger=GausLogger())"
   ]
  },
  {
   "cell_type": "markdown",
   "id": "75a8d630",
   "metadata": {},
   "source": [
    "# Assessing Quality of Fit"
   ]
  },
  {
   "cell_type": "markdown",
   "id": "b58aa462",
   "metadata": {},
   "source": [
    "## Predictive performance vs. random forest"
   ]
  },
  {
   "cell_type": "code",
   "execution_count": 5,
   "id": "9280799c",
   "metadata": {},
   "outputs": [],
   "source": [
    "from sklearn.ensemble import RandomForestRegressor\n",
    "from sklearn.metrics import r2_score\n",
    "import numpy as np"
   ]
  },
  {
   "cell_type": "code",
   "execution_count": 6,
   "id": "e577d179",
   "metadata": {},
   "outputs": [
    {
     "data": {
      "text/html": [
       "<style>#sk-container-id-1 {color: black;background-color: white;}#sk-container-id-1 pre{padding: 0;}#sk-container-id-1 div.sk-toggleable {background-color: white;}#sk-container-id-1 label.sk-toggleable__label {cursor: pointer;display: block;width: 100%;margin-bottom: 0;padding: 0.3em;box-sizing: border-box;text-align: center;}#sk-container-id-1 label.sk-toggleable__label-arrow:before {content: \"▸\";float: left;margin-right: 0.25em;color: #696969;}#sk-container-id-1 label.sk-toggleable__label-arrow:hover:before {color: black;}#sk-container-id-1 div.sk-estimator:hover label.sk-toggleable__label-arrow:before {color: black;}#sk-container-id-1 div.sk-toggleable__content {max-height: 0;max-width: 0;overflow: hidden;text-align: left;background-color: #f0f8ff;}#sk-container-id-1 div.sk-toggleable__content pre {margin: 0.2em;color: black;border-radius: 0.25em;background-color: #f0f8ff;}#sk-container-id-1 input.sk-toggleable__control:checked~div.sk-toggleable__content {max-height: 200px;max-width: 100%;overflow: auto;}#sk-container-id-1 input.sk-toggleable__control:checked~label.sk-toggleable__label-arrow:before {content: \"▾\";}#sk-container-id-1 div.sk-estimator input.sk-toggleable__control:checked~label.sk-toggleable__label {background-color: #d4ebff;}#sk-container-id-1 div.sk-label input.sk-toggleable__control:checked~label.sk-toggleable__label {background-color: #d4ebff;}#sk-container-id-1 input.sk-hidden--visually {border: 0;clip: rect(1px 1px 1px 1px);clip: rect(1px, 1px, 1px, 1px);height: 1px;margin: -1px;overflow: hidden;padding: 0;position: absolute;width: 1px;}#sk-container-id-1 div.sk-estimator {font-family: monospace;background-color: #f0f8ff;border: 1px dotted black;border-radius: 0.25em;box-sizing: border-box;margin-bottom: 0.5em;}#sk-container-id-1 div.sk-estimator:hover {background-color: #d4ebff;}#sk-container-id-1 div.sk-parallel-item::after {content: \"\";width: 100%;border-bottom: 1px solid gray;flex-grow: 1;}#sk-container-id-1 div.sk-label:hover label.sk-toggleable__label {background-color: #d4ebff;}#sk-container-id-1 div.sk-serial::before {content: \"\";position: absolute;border-left: 1px solid gray;box-sizing: border-box;top: 0;bottom: 0;left: 50%;z-index: 0;}#sk-container-id-1 div.sk-serial {display: flex;flex-direction: column;align-items: center;background-color: white;padding-right: 0.2em;padding-left: 0.2em;position: relative;}#sk-container-id-1 div.sk-item {position: relative;z-index: 1;}#sk-container-id-1 div.sk-parallel {display: flex;align-items: stretch;justify-content: center;background-color: white;position: relative;}#sk-container-id-1 div.sk-item::before, #sk-container-id-1 div.sk-parallel-item::before {content: \"\";position: absolute;border-left: 1px solid gray;box-sizing: border-box;top: 0;bottom: 0;left: 50%;z-index: -1;}#sk-container-id-1 div.sk-parallel-item {display: flex;flex-direction: column;z-index: 1;position: relative;background-color: white;}#sk-container-id-1 div.sk-parallel-item:first-child::after {align-self: flex-end;width: 50%;}#sk-container-id-1 div.sk-parallel-item:last-child::after {align-self: flex-start;width: 50%;}#sk-container-id-1 div.sk-parallel-item:only-child::after {width: 0;}#sk-container-id-1 div.sk-dashed-wrapped {border: 1px dashed gray;margin: 0 0.4em 0.5em 0.4em;box-sizing: border-box;padding-bottom: 0.4em;background-color: white;}#sk-container-id-1 div.sk-label label {font-family: monospace;font-weight: bold;display: inline-block;line-height: 1.2em;}#sk-container-id-1 div.sk-label-container {text-align: center;}#sk-container-id-1 div.sk-container {/* jupyter's `normalize.less` sets `[hidden] { display: none; }` but bootstrap.min.css set `[hidden] { display: none !important; }` so we also need the `!important` here to be able to override the default hidden behavior on the sphinx rendered scikit-learn.org. See: https://github.com/scikit-learn/scikit-learn/issues/21755 */display: inline-block !important;position: relative;}#sk-container-id-1 div.sk-text-repr-fallback {display: none;}</style><div id=\"sk-container-id-1\" class=\"sk-top-container\"><div class=\"sk-text-repr-fallback\"><pre>RandomForestRegressor(n_estimators=1000, random_state=0)</pre><b>In a Jupyter environment, please rerun this cell to show the HTML representation or trust the notebook. <br />On GitHub, the HTML representation is unable to render, please try loading this page with nbviewer.org.</b></div><div class=\"sk-container\" hidden><div class=\"sk-item\"><div class=\"sk-estimator sk-toggleable\"><input class=\"sk-toggleable__control sk-hidden--visually\" id=\"sk-estimator-id-1\" type=\"checkbox\" checked><label for=\"sk-estimator-id-1\" class=\"sk-toggleable__label sk-toggleable__label-arrow\">RandomForestRegressor</label><div class=\"sk-toggleable__content\"><pre>RandomForestRegressor(n_estimators=1000, random_state=0)</pre></div></div></div></div></div>"
      ],
      "text/plain": [
       "RandomForestRegressor(n_estimators=1000, random_state=0)"
      ]
     },
     "execution_count": 6,
     "metadata": {},
     "output_type": "execute_result"
    }
   ],
   "source": [
    "rf = RandomForestRegressor(n_estimators=1000, random_state=0)\n",
    "rf.fit(np.array(X), np.array(Y))"
   ]
  },
  {
   "cell_type": "code",
   "execution_count": 7,
   "id": "ae0223af",
   "metadata": {},
   "outputs": [],
   "source": [
    "# Generate new test set and compare R^2 performance\n",
    "N_test = 1000\n",
    "X_test = random.normal(key, shape=(N_test, p))\n",
    "epsilon = random.normal(key, shape=(N_test, ))\n",
    "Y_test = X_test[:, 0] + X_test[:, 1] + X_test[:, 2] * X_test[:, 3] + epsilon"
   ]
  },
  {
   "cell_type": "code",
   "execution_count": 8,
   "id": "dc814fe1",
   "metadata": {},
   "outputs": [],
   "source": [
    "rf_r2 = rf.score(np.array(X_test), np.array(Y_test))\n",
    "skimfa_r2 = r2_score(Y_test, skim.predict(X_test))"
   ]
  },
  {
   "cell_type": "code",
   "execution_count": 9,
   "id": "9a5cef38",
   "metadata": {},
   "outputs": [
    {
     "name": "stdout",
     "output_type": "stream",
     "text": [
      "Random Forest Test R^2: 0.4495\n",
      "SKIM-FA Test R^2: 0.6038\n"
     ]
    }
   ],
   "source": [
    "print(f'Random Forest Test R^2: {round(rf_r2, 4)}')\n",
    "print(f'SKIM-FA Test R^2: {round(skimfa_r2, 4)}')"
   ]
  },
  {
   "cell_type": "markdown",
   "id": "5366f526",
   "metadata": {},
   "source": [
    "## Estimated effects\n",
    "\n",
    "Now we compute all of the main/interaction effects found by SKIM-FA. Since we fit a linear interaction model, we report the regression coefficients associated with each effect. Since we used a constant scheduler for c, we do not get exact sparsity."
   ]
  },
  {
   "cell_type": "code",
   "execution_count": 10,
   "id": "8f297f85",
   "metadata": {},
   "outputs": [],
   "source": [
    "# Compute all main and in\n",
    "lanova = LinearANOVA(skim)\n",
    "V_all = all_subsets(skim.selected_covariates(), 2, True)\n",
    "all_skim_effects = dict()\n",
    "for V in V_all:\n",
    "    all_skim_effects[V] = lanova.get_coef(V)"
   ]
  },
  {
   "cell_type": "code",
   "execution_count": 11,
   "id": "594fb3d5",
   "metadata": {},
   "outputs": [
    {
     "name": "stdout",
     "output_type": "stream",
     "text": [
      "Top 5 Strongest Positive Effects Found:\n",
      "(1,) 0.923\n",
      "(0,) 0.861\n",
      "(2, 3) 0.739\n",
      "(65,) 0.109\n",
      "(30,) 0.105\n"
     ]
    }
   ],
   "source": [
    "# Report Top 5 positive effects found\n",
    "top5_positive = sorted(all_skim_effects, key=all_skim_effects.get, reverse=True)[:5]\n",
    "top5_negative = sorted(all_skim_effects, key=all_skim_effects.get, reverse=False)[:5]\n",
    "\n",
    "print('Top 5 Strongest Positive Effects Found:')\n",
    "for V in top5_positive:\n",
    "    print(V,  round(all_skim_effects[V], 3))"
   ]
  },
  {
   "cell_type": "code",
   "execution_count": 12,
   "id": "b0fbd289",
   "metadata": {},
   "outputs": [
    {
     "name": "stdout",
     "output_type": "stream",
     "text": [
      "Top 5 Strongest Negative Effects Found:\n",
      "(2,) -0.107\n",
      "(52,) -0.091\n",
      "(2, 21) -0.089\n",
      "(83,) -0.088\n",
      "(70,) -0.086\n"
     ]
    }
   ],
   "source": [
    "print('Top 5 Strongest Negative Effects Found:')\n",
    "for V in top5_negative:\n",
    "    print(V,  round(all_skim_effects[V], 3))"
   ]
  },
  {
   "cell_type": "code",
   "execution_count": 13,
   "id": "1e70bfd7",
   "metadata": {},
   "outputs": [],
   "source": [
    "Y_test_pred = skim.predict(X_test)\n",
    "variation_intercept = lanova.get_variation_at_order(X_test, 0)\n",
    "variation_additive = lanova.get_variation_at_order(X_test, 1)\n",
    "variation_pairwise = lanova.get_variation_at_order(X_test, 2)"
   ]
  },
  {
   "cell_type": "code",
   "execution_count": 14,
   "id": "adf7751f",
   "metadata": {},
   "outputs": [],
   "source": [
    "# The sum of the variation at each order recovers the prediction output\n",
    "check = variation_intercept + variation_additive + variation_pairwise\n",
    "assert jnp.abs(Y_test_pred - check).max() < 1e-5"
   ]
  },
  {
   "cell_type": "markdown",
   "id": "49dad035",
   "metadata": {},
   "source": [
    "# Model interpretation"
   ]
  },
  {
   "cell_type": "markdown",
   "id": "f1aca209",
   "metadata": {},
   "source": [
    "## Global covariate importance"
   ]
  },
  {
   "cell_type": "code",
   "execution_count": 15,
   "id": "ea9ac056",
   "metadata": {},
   "outputs": [
    {
     "name": "stderr",
     "output_type": "stream",
     "text": [
      "100%|███████████████████████████████████████████████████████████████████████████████████████████████████████| 100/100 [00:59<00:00,  1.67it/s]\n"
     ]
    },
    {
     "data": {
      "image/png": "[encoded data removed]",
      "text/plain": [
       "<Figure size 600x600 with 1 Axes>"
      ]
     },
     "metadata": {
      "needs_background": "light"
     },
     "output_type": "display_data"
    }
   ],
   "source": [
    "import matplotlib.pyplot as plt\n",
    "fig, ax = plt.subplots(figsize=(6, 6), dpi=100)\n",
    "covariate_importance = sobol_importance(X_train, lanova, ax)"
   ]
  },
  {
   "cell_type": "markdown",
   "id": "a25319de",
   "metadata": {},
   "source": [
    "## Single datapoint explanation"
   ]
  },
  {
   "cell_type": "code",
   "execution_count": 16,
   "id": "7e7408ef",
   "metadata": {},
   "outputs": [
    {
     "name": "stderr",
     "output_type": "stream",
     "text": [
      "100%|████████████████████████████████████████████████████████████████████████████████████████████████████| 5051/5051 [00:30<00:00, 164.29it/s]\n"
     ]
    },
    {
     "data": {
      "image/png": "[encoded data removed]",
      "text/plain": [
       "<Figure size 800x650 with 1 Axes>"
      ]
     },
     "metadata": {},
     "output_type": "display_data"
    }
   ],
   "source": [
    "# Prediction attribution breakdown for first test datapoint\n",
    "anova_waterfall(X_test[0,:], lanova, [str(i) for i in range(p)])"
   ]
  }
 ],
 "metadata": {
  "kernelspec": {
   "display_name": "Python 3 (ipykernel)",
   "language": "python",
   "name": "python3"
  },
  "language_info": {
   "codemirror_mode": {
    "name": "ipython",
    "version": 3
   },
   "file_extension": ".py",
   "mimetype": "text/x-python",
   "name": "python",
   "nbconvert_exporter": "python",
   "pygments_lexer": "ipython3",
   "version": "3.9.12"
  }
 },
 "nbformat": 4,
 "nbformat_minor": 5
}
