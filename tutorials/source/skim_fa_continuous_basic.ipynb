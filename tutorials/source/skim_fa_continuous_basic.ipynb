{
 "cells": [
  {
   "cell_type": "markdown",
   "id": "9ddafc92",
   "metadata": {},
   "source": [
    "# Learning Functional ANOVA Decompositions in FAVA: Continuous Responses\n",
    "\n",
    "In this tutorial, we show how to solve penalized least squares problems of the form\n",
    "\n",
    "$$\\hat{f} = \\arg \\min_{f \\in H} \\sum_{n=1}^N (y^{(n)} - f(x^{(n)}))^2 + \\lambda \\|f\\|_{\\mathcal{H}}^2, $$\n",
    "\n",
    "where $\\mathcal{H}$ consists of the space of interactions of order up to $Q$: \n",
    "\n",
    "$$\\mathcal{H} = \\left\\{f: f = \\sum_{V: |V| \\leq Q} f_V \\right\\} \\quad \\text{s.t.} \\quad \\forall A \\subsetneq B, \\ f_A \\perp_{\\mathcal{H}} f_B.$$"
   ]
  },
  {
   "cell_type": "markdown",
   "id": "a4d8b672",
   "metadata": {},
   "source": [
    "# Import packages\n",
    "\n",
    "We start by importing the required packages in `fava` and `jax`."
   ]
  },
  {
   "cell_type": "code",
   "execution_count": 41,
   "id": "7e1a0755",
   "metadata": {},
   "outputs": [],
   "source": [
    "import jax.numpy as jnp\n",
    "from jax import grad, jit, vmap\n",
    "from jax import random\n",
    "import jax\n",
    "\n",
    "from fava.inference.fit import GaussianSKIMFA\n",
    "from fava.basis.maps import LinearBasis\n",
    "from fava.misc.scheduler import truncScheduler, constantScheduler\n",
    "from fava.misc.logger import GausLogger\n",
    "from fava.decomposers.decomposer import all_subsets\n",
    "from fava.decomposers.tensor_product import TensorProductKernelANOVA, LinearANOVA\n",
    "from fava.plots.waterfall import anova_waterfall"
   ]
  },
  {
   "cell_type": "markdown",
   "id": "7a31fbcb",
   "metadata": {},
   "source": [
    "# Simulating data\n",
    "\n",
    "Below we generate simulated data, where the covariates $x \\in \\mathbb{R}^{100}$ and $y \\in \\mathbb{R}$. We assume that the first 4 covariates drive the response $y$, and the remaining covariates have no influence on the response. Specifically, the $n$th datapoint is generated as follows: $y^{(n)} = x_1^{(n)}x_2^{(n)} + x_2^{(n)}x_3^{(n)} + \\epsilon^{(n)}$, where $\\epsilon^{(n)} \\overset{\\text{i.i.d.}}{\\sim} \\mathcal{N}(0, 1)$ for $1 \\leq n \\leq 500$.\n"
   ]
  },
  {
   "cell_type": "code",
   "execution_count": 2,
   "id": "ca748be8",
   "metadata": {},
   "outputs": [
    {
     "name": "stderr",
     "output_type": "stream",
     "text": [
      "WARNING:absl:No GPU/TPU found, falling back to CPU. (Set TF_CPP_MIN_LOG_LEVEL=0 and rerun for more info.)\n"
     ]
    }
   ],
   "source": [
    "key = random.PRNGKey(0) # set seed\n",
    "N = 500\n",
    "p = 100\n",
    "X = random.normal(key, shape=(N, p))\n",
    "epsilon = random.normal(key, shape=(N, ))\n",
    "Y = X[:, 0] + X[:, 1] + X[:, 2] * X[:, 3] + epsilon"
   ]
  },
  {
   "cell_type": "markdown",
   "id": "d2fa262a",
   "metadata": {},
   "source": [
    "# Split data into training and validation"
   ]
  },
  {
   "cell_type": "code",
   "execution_count": 3,
   "id": "257f982b",
   "metadata": {},
   "outputs": [],
   "source": [
    "# Use 80% of the data for training and 20% for validation\n",
    "X_train = X[:400, :]\n",
    "Y_train = Y[:400]\n",
    "\n",
    "X_valid = X[400:, :]\n",
    "Y_valid = Y[400:]"
   ]
  },
  {
   "cell_type": "markdown",
   "id": "0e5a4343",
   "metadata": {},
   "source": [
    "# Fit SKIM-FA Model\n",
    "\n",
    "Below we initialize SKIM-FA hyperparameters with default values. We run a total of $T=500$ iterations. The parameters that maximize predictive performance on the validation set are selected."
   ]
  },
  {
   "cell_type": "code",
   "execution_count": 4,
   "id": "b8fe0b84",
   "metadata": {},
   "outputs": [
    {
     "name": "stderr",
     "output_type": "stream",
     "text": [
      "\r",
      "  0%|                                                                                                                 | 0/500 [00:00<?, ?it/s]"
     ]
    },
    {
     "name": "stdout",
     "output_type": "stream",
     "text": [
      "============================== Iteration 0/500 ==============================\n",
      "There are 100 covariates selected.\n"
     ]
    },
    {
     "name": "stderr",
     "output_type": "stream",
     "text": [
      "\r",
      "  0%|▏                                                                                                        | 1/500 [00:04<34:16,  4.12s/it]"
     ]
    },
    {
     "name": "stdout",
     "output_type": "stream",
     "text": [
      "MSE (Validation)=2.5803.\n",
      "R2 (Validation)=0.4308.\n",
      "eta=[1.0000176  1.0927966  0.90706474]\n",
      "c=0.2\n",
      "kappa=[0.427512   0.43775743 0.38954645 0.3935901  0.37155294 0.37196064\n",
      " 0.37526184 0.37408942 0.37568456 0.37432647 0.36845684 0.3702034\n",
      " 0.37719196 0.38341844 0.37717736 0.36670595 0.3718865  0.37691826\n",
      " 0.373253   0.37422097 0.36725998 0.37259445 0.37028933 0.3774687\n",
      " 0.3699179  0.37486166 0.36752617 0.37550277 0.37107378 0.37370145\n",
      " 0.37118727 0.37558192 0.3727138  0.37480414 0.3790542  0.36897695\n",
      " 0.36873615 0.37040257 0.3758871  0.3640982  0.37777245 0.37394568\n",
      " 0.3741271  0.37913078 0.36967307 0.37678212 0.36617234 0.37765032\n",
      " 0.37358582 0.37470585 0.37127936 0.3739831  0.37635857 0.37284583\n",
      " 0.37119448 0.36952233 0.37866533 0.37040457 0.36523217 0.37135786\n",
      " 0.37115157 0.37187934 0.37034845 0.38416728 0.37458822 0.3745625\n",
      " 0.3640228  0.36721563 0.37601233 0.36932468 0.37321633 0.37741148\n",
      " 0.37234172 0.36836708 0.38273335 0.36760545 0.3676412  0.37340626\n",
      " 0.370626   0.368869   0.36690378 0.3719671  0.37470436 0.36772415\n",
      " 0.3757093  0.36805272 0.37024423 0.3686659  0.37375093 0.3723454\n",
      " 0.36970645 0.37171954 0.36611125 0.37607634 0.37442774 0.36795765\n",
      " 0.36413252 0.37298858 0.3732651  0.3661768 ]\n"
     ]
    },
    {
     "name": "stderr",
     "output_type": "stream",
     "text": [
      " 20%|████████████████████▌                                                                                  | 100/500 [00:40<02:29,  2.68it/s]"
     ]
    },
    {
     "name": "stdout",
     "output_type": "stream",
     "text": [
      "============================== Iteration 100/500 ==============================\n",
      "There are 100 covariates selected.\n"
     ]
    },
    {
     "name": "stderr",
     "output_type": "stream",
     "text": [
      "\r",
      " 20%|████████████████████▊                                                                                  | 101/500 [00:41<03:06,  2.14it/s]"
     ]
    },
    {
     "name": "stdout",
     "output_type": "stream",
     "text": [
      "MSE (Validation)=1.3841.\n",
      "R2 (Validation)=0.6947.\n",
      "eta=[0.9999887 1.3747737 0.9144955]\n",
      "c=0.2\n",
      "kappa=[6.00533366e-01 7.12121010e-01 7.55946636e-01 7.38661885e-01\n",
      " 9.70444232e-02 1.35944620e-01 3.23872805e-01 2.21708059e-01\n",
      " 3.68328750e-01 1.52646989e-01 4.55686823e-03 3.95288505e-02\n",
      " 4.23630416e-01 5.94578862e-01 3.95420492e-01 6.48644418e-02\n",
      " 3.55876796e-02 1.52589217e-01 4.42870110e-01 4.45499718e-01\n",
      " 2.59182364e-01 5.53305745e-01 8.97421539e-02 2.11845845e-01\n",
      " 2.62815878e-02 4.27186430e-01 5.54319471e-03 2.59970367e-01\n",
      " 1.76841207e-02 1.55978113e-01 4.25242484e-01 4.36426997e-01\n",
      " 3.58408153e-01 1.50096774e-01 3.96640152e-01 2.06939876e-05\n",
      " 3.92727703e-01 3.60691920e-03 2.81037182e-01 1.52833253e-01\n",
      " 3.35450828e-01 2.36021146e-01 1.11472666e-01 3.18701208e-01\n",
      " 2.60427780e-02 2.70474792e-01 8.47736895e-02 3.92875522e-01\n",
      " 8.51355493e-03 1.57945171e-01 1.39246792e-01 1.13734692e-01\n",
      " 5.08838892e-01 1.80299148e-01 1.88473001e-01 2.56500602e-01\n",
      " 4.53495234e-01 2.87338287e-01 8.59403461e-02 4.62466627e-01\n",
      " 3.82524073e-01 2.95694917e-02 5.56274503e-02 5.76508284e-01\n",
      " 4.18397486e-01 4.84430552e-01 7.70821571e-02 4.85006720e-03\n",
      " 2.26404756e-01 9.48924720e-02 4.24596965e-01 4.53874171e-01\n",
      " 2.26220727e-01 2.36252978e-01 4.51670736e-01 5.68580814e-02\n",
      " 2.60412902e-01 9.97325405e-03 3.41216475e-01 2.40484536e-01\n",
      " 6.43763691e-03 1.56092659e-01 5.94288670e-02 2.35175848e-01\n",
      " 1.93132624e-01 9.73965973e-03 1.74646765e-01 1.34210378e-01\n",
      " 3.06664407e-02 2.43836433e-01 1.22276604e-01 5.91098309e-01\n",
      " 1.12390131e-01 2.49092519e-01 1.04196727e-01 1.06463343e-01\n",
      " 1.68981031e-03 3.10246259e-01 2.15523779e-01 1.21473335e-02]\n"
     ]
    },
    {
     "name": "stderr",
     "output_type": "stream",
     "text": [
      " 40%|█████████████████████████████████████████▏                                                             | 200/500 [01:20<01:59,  2.51it/s]"
     ]
    },
    {
     "name": "stdout",
     "output_type": "stream",
     "text": [
      "============================== Iteration 200/500 ==============================\n",
      "There are 100 covariates selected.\n"
     ]
    },
    {
     "name": "stderr",
     "output_type": "stream",
     "text": [
      "\r",
      " 40%|█████████████████████████████████████████▍                                                             | 201/500 [01:21<02:27,  2.03it/s]"
     ]
    },
    {
     "name": "stdout",
     "output_type": "stream",
     "text": [
      "MSE (Validation)=1.4887.\n",
      "R2 (Validation)=0.6716.\n",
      "eta=[1.0004566 1.4380944 1.1376388]\n",
      "c=0.2\n",
      "kappa=[6.2743258e-01 7.3651725e-01 7.6308870e-01 7.0940852e-01 2.0461157e-04\n",
      " 2.0501800e-02 3.8944775e-01 2.5866377e-01 3.5027817e-01 4.6840478e-02\n",
      " 8.1397593e-06 6.8195723e-03 4.4969484e-01 5.5788112e-01 3.0442882e-01\n",
      " 1.0646433e-02 2.9263832e-03 7.8737274e-02 4.5009410e-01 4.8115796e-01\n",
      " 2.0670661e-01 5.5233389e-01 2.6717037e-02 8.9344814e-02 2.5185198e-03\n",
      " 3.0607802e-01 4.8698857e-04 2.2730099e-01 7.1413815e-05 6.4214483e-02\n",
      " 4.9844211e-01 4.2579836e-01 2.0739073e-01 1.9914284e-03 4.6285287e-01\n",
      " 1.3038516e-07 2.8915259e-01 1.7266721e-05 3.9117169e-02 1.3263480e-01\n",
      " 2.9512042e-01 6.5138876e-02 2.3706630e-03 4.6266958e-01 3.5207979e-02\n",
      " 1.7639430e-01 4.1069649e-03 2.7074286e-01 4.2468309e-06 2.5516275e-01\n",
      " 2.4424829e-02 7.5013004e-03 5.7430041e-01 4.4024363e-02 9.8584011e-02\n",
      " 2.7162430e-01 3.2604659e-01 3.6310479e-01 7.0391804e-02 5.6765521e-01\n",
      " 3.7037349e-01 2.0366162e-04 2.2267178e-03 5.6839705e-01 3.9066896e-01\n",
      " 5.1960737e-01 2.6552808e-02 1.9166619e-05 6.7307785e-02 4.9185194e-03\n",
      " 5.0283575e-01 4.4577754e-01 6.0100257e-02 3.0728811e-01 4.5517409e-01\n",
      " 1.4960635e-02 2.0278828e-01 3.9618462e-04 2.0640573e-01 3.6884105e-01\n",
      " 3.7381425e-04 1.0090785e-01 5.4061227e-03 1.6665743e-01 7.1059927e-02\n",
      " 4.5372136e-02 1.6143298e-01 2.2911905e-01 7.9307333e-03 1.8913029e-01\n",
      " 1.8910170e-02 6.7991859e-01 1.1787714e-01 1.2627337e-02 3.5657976e-02\n",
      " 1.0537116e-01 6.9849193e-06 3.4281164e-01 4.8366319e-02 5.6203455e-04]\n"
     ]
    },
    {
     "name": "stderr",
     "output_type": "stream",
     "text": [
      " 60%|█████████████████████████████████████████████████████████████▊                                         | 300/500 [02:01<01:19,  2.53it/s]"
     ]
    },
    {
     "name": "stdout",
     "output_type": "stream",
     "text": [
      "============================== Iteration 300/500 ==============================\n",
      "There are 100 covariates selected.\n"
     ]
    },
    {
     "name": "stderr",
     "output_type": "stream",
     "text": [
      "\r",
      " 60%|██████████████████████████████████████████████████████████████                                         | 301/500 [02:01<01:35,  2.08it/s]"
     ]
    },
    {
     "name": "stdout",
     "output_type": "stream",
     "text": [
      "MSE (Validation)=1.7322.\n",
      "R2 (Validation)=0.6179.\n",
      "eta=[1.0039895 1.5636828 1.2282599]\n",
      "c=0.2\n",
      "kappa=[6.3940847e-01 7.4913049e-01 7.7015197e-01 6.7330444e-01 1.8626451e-07\n",
      " 5.0112605e-04 4.1887507e-01 2.9173839e-01 3.4908116e-01 3.7279166e-03\n",
      " 2.4214387e-07 2.2080541e-03 4.4450492e-01 4.8493519e-01 2.5791678e-01\n",
      " 4.0283613e-03 2.0150840e-03 7.1995497e-02 4.7270104e-01 4.6363986e-01\n",
      " 1.7665735e-01 5.8669060e-01 1.9527208e-02 9.1481768e-03 9.0152025e-05\n",
      " 2.7457690e-01 3.6861748e-05 1.3927491e-01 3.7252903e-07 2.6763678e-02\n",
      " 4.4786930e-01 4.6910191e-01 4.9205441e-02 4.1890889e-05 5.0622529e-01\n",
      " 1.3038516e-07 2.7400467e-01 5.7742000e-07 8.0591068e-04 9.2223972e-02\n",
      " 2.5340298e-01 5.8053918e-02 9.4994903e-07 5.1016295e-01 1.2796806e-01\n",
      " 2.2584102e-01 8.0037862e-05 1.6265625e-01 4.6566129e-07 3.2618350e-01\n",
      " 9.0770423e-04 1.7171912e-03 5.6533980e-01 4.3935888e-03 1.2710476e-01\n",
      " 2.2468126e-01 1.5852162e-01 3.3922529e-01 6.3246801e-02 5.9934443e-01\n",
      " 2.9516441e-01 4.8987567e-06 9.4063580e-06 5.2684057e-01 4.0243322e-01\n",
      " 5.7057250e-01 1.6771010e-01 4.2840838e-07 5.9887301e-02 3.1217933e-05\n",
      " 5.4609430e-01 3.5777166e-01 1.4203098e-02 2.7550709e-01 5.0771916e-01\n",
      " 3.1278282e-03 1.5427826e-01 2.1979213e-06 1.1556247e-01 3.8445681e-01\n",
      " 1.5310943e-05 5.9823692e-02 1.0120869e-03 1.6564196e-01 6.5103754e-02\n",
      " 8.4898114e-02 1.6163065e-01 2.6999006e-01 4.6855956e-03 1.3170137e-01\n",
      " 3.6443584e-03 7.0809519e-01 9.3681648e-02 2.5058165e-04 4.0050149e-02\n",
      " 1.5238793e-01 5.0291419e-07 3.2621539e-01 7.0952624e-03 2.8479844e-05]\n"
     ]
    },
    {
     "name": "stderr",
     "output_type": "stream",
     "text": [
      " 80%|██████████████████████████████████████████████████████████████████████████████████▍                    | 400/500 [02:39<00:37,  2.66it/s]"
     ]
    },
    {
     "name": "stdout",
     "output_type": "stream",
     "text": [
      "============================== Iteration 400/500 ==============================\n",
      "There are 100 covariates selected.\n"
     ]
    },
    {
     "name": "stderr",
     "output_type": "stream",
     "text": [
      "\r",
      " 80%|██████████████████████████████████████████████████████████████████████████████████▌                    | 401/500 [02:40<00:45,  2.18it/s]"
     ]
    },
    {
     "name": "stdout",
     "output_type": "stream",
     "text": [
      "MSE (Validation)=2.0149.\n",
      "R2 (Validation)=0.5555.\n",
      "eta=[1.0111151 1.7499819 1.2703197]\n",
      "c=0.2\n",
      "kappa=[6.22618318e-01 7.54343927e-01 7.78473616e-01 6.33080244e-01\n",
      " 1.86264515e-07 6.03497028e-06 4.04189974e-01 2.88623840e-01\n",
      " 3.21125239e-01 4.21404839e-04 1.86264515e-07 6.22030348e-04\n",
      " 3.95276695e-01 4.42406893e-01 2.69092739e-01 6.92164525e-03\n",
      " 1.74995512e-04 1.04006886e-01 4.86630559e-01 4.17416453e-01\n",
      " 1.41881615e-01 6.26288295e-01 4.47485596e-02 1.83656812e-05\n",
      " 2.08616257e-06 2.63900399e-01 1.76951289e-06 7.54447430e-02\n",
      " 2.79396772e-07 4.61198390e-03 3.65673751e-01 5.37077904e-01\n",
      " 6.86571002e-05 1.13621354e-06 5.06975651e-01 1.30385160e-07\n",
      " 2.02107593e-01 5.02914190e-07 4.28408384e-07 6.92631453e-02\n",
      " 2.42169261e-01 7.87873417e-02 2.79396772e-07 5.38698971e-01\n",
      " 1.78796187e-01 2.92907298e-01 1.26659870e-06 1.05669707e-01\n",
      " 4.65661287e-07 3.32516283e-01 5.53578138e-05 9.00216401e-05\n",
      " 5.41176915e-01 1.74921006e-04 1.26398489e-01 1.97207689e-01\n",
      " 1.07161835e-01 2.84592241e-01 4.48504463e-03 6.13198280e-01\n",
      " 2.18500659e-01 9.49949026e-07 3.72529030e-07 4.74612951e-01\n",
      " 4.02785391e-01 6.28012061e-01 3.51620555e-01 3.72529030e-07\n",
      " 8.06681663e-02 4.28408384e-07 6.06992006e-01 2.99211860e-01\n",
      " 3.62861902e-04 2.01847762e-01 5.57562590e-01 1.28559768e-04\n",
      " 8.16592425e-02 3.72529030e-07 1.60980038e-02 3.39099824e-01\n",
      " 8.56816769e-07 7.76601955e-03 9.35420394e-05 1.58776656e-01\n",
      " 2.06111372e-02 1.20499596e-01 1.45789400e-01 2.61429638e-01\n",
      " 2.14092433e-04 9.60492939e-02 1.68123655e-02 7.16683924e-01\n",
      " 9.12733972e-02 1.43423676e-06 2.49768421e-02 1.72563702e-01\n",
      " 5.02914190e-07 2.69162565e-01 1.01709738e-03 4.28408384e-07]\n"
     ]
    },
    {
     "name": "stderr",
     "output_type": "stream",
     "text": [
      "100%|███████████████████████████████████████████████████████████████████████████████████████████████████████| 500/500 [03:18<00:00,  2.52it/s]\n"
     ]
    }
   ],
   "source": [
    "kernel_params = dict()\n",
    "Q = 2\n",
    "kernel_params['U_tilde'] = jnp.ones(p)\n",
    "kernel_params['eta'] = jnp.ones(Q+1)\n",
    "\n",
    "hyperparams = dict()\n",
    "hyperparams['sigma_sq'] = .5 * jnp.var(Y)\n",
    "hyperparams['c'] = .2\n",
    "\n",
    "opt_params = dict()\n",
    "opt_params['cg'] = True\n",
    "opt_params['cg_tol'] = .01\n",
    "opt_params['M'] = 100\n",
    "opt_params['gamma'] = .1\n",
    "opt_params['T'] = 500\n",
    "opt_params['scheduler'] = constantScheduler() # we won't get exact sparsity since c is constant\n",
    "featprocessor = LinearBasis(X_train)\n",
    "logger = GausLogger(100)\n",
    "\n",
    "skim = GaussianSKIMFA(X_train, Y_train, X_valid, Y_valid, featprocessor)\n",
    "\n",
    "skim.fit(key, hyperparams, kernel_params, opt_params, \n",
    "            logger=GausLogger())"
   ]
  },
  {
   "cell_type": "markdown",
   "id": "803a2669",
   "metadata": {},
   "source": [
    "# Compare predictive performance against random forest"
   ]
  },
  {
   "cell_type": "code",
   "execution_count": 5,
   "id": "c9482b79",
   "metadata": {},
   "outputs": [],
   "source": [
    "from sklearn.ensemble import RandomForestRegressor\n",
    "from sklearn.metrics import r2_score\n",
    "import numpy as np"
   ]
  },
  {
   "cell_type": "code",
   "execution_count": 6,
   "id": "5f8c3ab1",
   "metadata": {},
   "outputs": [
    {
     "data": {
      "text/html": [
       "<style>#sk-container-id-1 {color: black;background-color: white;}#sk-container-id-1 pre{padding: 0;}#sk-container-id-1 div.sk-toggleable {background-color: white;}#sk-container-id-1 label.sk-toggleable__label {cursor: pointer;display: block;width: 100%;margin-bottom: 0;padding: 0.3em;box-sizing: border-box;text-align: center;}#sk-container-id-1 label.sk-toggleable__label-arrow:before {content: \"▸\";float: left;margin-right: 0.25em;color: #696969;}#sk-container-id-1 label.sk-toggleable__label-arrow:hover:before {color: black;}#sk-container-id-1 div.sk-estimator:hover label.sk-toggleable__label-arrow:before {color: black;}#sk-container-id-1 div.sk-toggleable__content {max-height: 0;max-width: 0;overflow: hidden;text-align: left;background-color: #f0f8ff;}#sk-container-id-1 div.sk-toggleable__content pre {margin: 0.2em;color: black;border-radius: 0.25em;background-color: #f0f8ff;}#sk-container-id-1 input.sk-toggleable__control:checked~div.sk-toggleable__content {max-height: 200px;max-width: 100%;overflow: auto;}#sk-container-id-1 input.sk-toggleable__control:checked~label.sk-toggleable__label-arrow:before {content: \"▾\";}#sk-container-id-1 div.sk-estimator input.sk-toggleable__control:checked~label.sk-toggleable__label {background-color: #d4ebff;}#sk-container-id-1 div.sk-label input.sk-toggleable__control:checked~label.sk-toggleable__label {background-color: #d4ebff;}#sk-container-id-1 input.sk-hidden--visually {border: 0;clip: rect(1px 1px 1px 1px);clip: rect(1px, 1px, 1px, 1px);height: 1px;margin: -1px;overflow: hidden;padding: 0;position: absolute;width: 1px;}#sk-container-id-1 div.sk-estimator {font-family: monospace;background-color: #f0f8ff;border: 1px dotted black;border-radius: 0.25em;box-sizing: border-box;margin-bottom: 0.5em;}#sk-container-id-1 div.sk-estimator:hover {background-color: #d4ebff;}#sk-container-id-1 div.sk-parallel-item::after {content: \"\";width: 100%;border-bottom: 1px solid gray;flex-grow: 1;}#sk-container-id-1 div.sk-label:hover label.sk-toggleable__label {background-color: #d4ebff;}#sk-container-id-1 div.sk-serial::before {content: \"\";position: absolute;border-left: 1px solid gray;box-sizing: border-box;top: 0;bottom: 0;left: 50%;z-index: 0;}#sk-container-id-1 div.sk-serial {display: flex;flex-direction: column;align-items: center;background-color: white;padding-right: 0.2em;padding-left: 0.2em;position: relative;}#sk-container-id-1 div.sk-item {position: relative;z-index: 1;}#sk-container-id-1 div.sk-parallel {display: flex;align-items: stretch;justify-content: center;background-color: white;position: relative;}#sk-container-id-1 div.sk-item::before, #sk-container-id-1 div.sk-parallel-item::before {content: \"\";position: absolute;border-left: 1px solid gray;box-sizing: border-box;top: 0;bottom: 0;left: 50%;z-index: -1;}#sk-container-id-1 div.sk-parallel-item {display: flex;flex-direction: column;z-index: 1;position: relative;background-color: white;}#sk-container-id-1 div.sk-parallel-item:first-child::after {align-self: flex-end;width: 50%;}#sk-container-id-1 div.sk-parallel-item:last-child::after {align-self: flex-start;width: 50%;}#sk-container-id-1 div.sk-parallel-item:only-child::after {width: 0;}#sk-container-id-1 div.sk-dashed-wrapped {border: 1px dashed gray;margin: 0 0.4em 0.5em 0.4em;box-sizing: border-box;padding-bottom: 0.4em;background-color: white;}#sk-container-id-1 div.sk-label label {font-family: monospace;font-weight: bold;display: inline-block;line-height: 1.2em;}#sk-container-id-1 div.sk-label-container {text-align: center;}#sk-container-id-1 div.sk-container {/* jupyter's `normalize.less` sets `[hidden] { display: none; }` but bootstrap.min.css set `[hidden] { display: none !important; }` so we also need the `!important` here to be able to override the default hidden behavior on the sphinx rendered scikit-learn.org. See: https://github.com/scikit-learn/scikit-learn/issues/21755 */display: inline-block !important;position: relative;}#sk-container-id-1 div.sk-text-repr-fallback {display: none;}</style><div id=\"sk-container-id-1\" class=\"sk-top-container\"><div class=\"sk-text-repr-fallback\"><pre>RandomForestRegressor(n_estimators=1000, random_state=0)</pre><b>In a Jupyter environment, please rerun this cell to show the HTML representation or trust the notebook. <br />On GitHub, the HTML representation is unable to render, please try loading this page with nbviewer.org.</b></div><div class=\"sk-container\" hidden><div class=\"sk-item\"><div class=\"sk-estimator sk-toggleable\"><input class=\"sk-toggleable__control sk-hidden--visually\" id=\"sk-estimator-id-1\" type=\"checkbox\" checked><label for=\"sk-estimator-id-1\" class=\"sk-toggleable__label sk-toggleable__label-arrow\">RandomForestRegressor</label><div class=\"sk-toggleable__content\"><pre>RandomForestRegressor(n_estimators=1000, random_state=0)</pre></div></div></div></div></div>"
      ],
      "text/plain": [
       "RandomForestRegressor(n_estimators=1000, random_state=0)"
      ]
     },
     "execution_count": 6,
     "metadata": {},
     "output_type": "execute_result"
    }
   ],
   "source": [
    "rf = RandomForestRegressor(n_estimators=1000, random_state=0)\n",
    "rf.fit(np.array(X), np.array(Y))"
   ]
  },
  {
   "cell_type": "code",
   "execution_count": 7,
   "id": "07bbc698",
   "metadata": {},
   "outputs": [],
   "source": [
    "# Generate new test set and compare R^2 performance\n",
    "N_test = 1000\n",
    "X_test = random.normal(key, shape=(N_test, p))\n",
    "epsilon = random.normal(key, shape=(N_test, ))\n",
    "Y_test = X_test[:, 0] + X_test[:, 1] + X_test[:, 2] * X_test[:, 3] + epsilon"
   ]
  },
  {
   "cell_type": "code",
   "execution_count": 8,
   "id": "216706b8",
   "metadata": {},
   "outputs": [],
   "source": [
    "rf_r2 = rf.score(np.array(X_test), np.array(Y_test))\n",
    "skimfa_r2 = r2_score(Y_test, skim.predict(X_test))"
   ]
  },
  {
   "cell_type": "code",
   "execution_count": 9,
   "id": "79078cd7",
   "metadata": {},
   "outputs": [
    {
     "name": "stdout",
     "output_type": "stream",
     "text": [
      "Random Forest Test R^2: 0.4495\n",
      "SKIM-FA Test R^2: 0.6038\n"
     ]
    }
   ],
   "source": [
    "print(f'Random Forest Test R^2: {round(rf_r2, 4)}')\n",
    "print(f'SKIM-FA Test R^2: {round(skimfa_r2, 4)}')"
   ]
  },
  {
   "cell_type": "markdown",
   "id": "5366f526",
   "metadata": {},
   "source": [
    "# Report effects\n",
    "\n",
    "Now we compute all of the main/interaction effects found by SKIM-FA. Since we fit a linear interaction model, we report the regression coefficients associated with each effect. Since we used a constant scheduler for c, we do not get exact sparsity."
   ]
  },
  {
   "cell_type": "code",
   "execution_count": 10,
   "id": "8f297f85",
   "metadata": {},
   "outputs": [],
   "source": [
    "# Compute all main and in\n",
    "lanova = LinearANOVA(skim)\n",
    "V_all = all_subsets(skim.selected_covariates(), 2, True)\n",
    "all_skim_effects = dict()\n",
    "for V in V_all:\n",
    "    all_skim_effects[V] = lanova.get_coef(V)"
   ]
  },
  {
   "cell_type": "code",
   "execution_count": 11,
   "id": "ea329acb",
   "metadata": {},
   "outputs": [
    {
     "name": "stdout",
     "output_type": "stream",
     "text": [
      "Top 5 Strongest Positive Effects Found:\n",
      "(1,) 0.923\n",
      "(0,) 0.861\n",
      "(2, 3) 0.739\n",
      "(65,) 0.109\n",
      "(30,) 0.105\n"
     ]
    }
   ],
   "source": [
    "# Report Top 5 positive effects found\n",
    "top5_positive = sorted(all_skim_effects, key=all_skim_effects.get, reverse=True)[:5]\n",
    "top5_negative = sorted(all_skim_effects, key=all_skim_effects.get, reverse=False)[:5]\n",
    "\n",
    "print('Top 5 Strongest Positive Effects Found:')\n",
    "for V in top5_positive:\n",
    "    print(V,  round(all_skim_effects[V], 3))"
   ]
  },
  {
   "cell_type": "code",
   "execution_count": 12,
   "id": "4b99692b",
   "metadata": {},
   "outputs": [
    {
     "name": "stdout",
     "output_type": "stream",
     "text": [
      "Top 5 Strongest Negative Effects Found:\n",
      "(2,) -0.107\n",
      "(52,) -0.091\n",
      "(2, 21) -0.089\n",
      "(83,) -0.088\n",
      "(70,) -0.086\n"
     ]
    }
   ],
   "source": [
    "print('Top 5 Strongest Negative Effects Found:')\n",
    "for V in top5_negative:\n",
    "    print(V,  round(all_skim_effects[V], 3))"
   ]
  },
  {
   "cell_type": "code",
   "execution_count": 13,
   "id": "f8385fae",
   "metadata": {},
   "outputs": [
    {
     "name": "stderr",
     "output_type": "stream",
     "text": [
      "100%|███████████████████████████████████████████████████████████████████████████████████████████████████████████| 1/1 [00:00<00:00, 58.99it/s]\n",
      "100%|██████████████████████████████████████████████████████████████████████████████████████████████████████| 100/100 [00:00<00:00, 146.20it/s]\n",
      "100%|████████████████████████████████████████████████████████████████████████████████████████████████████| 4950/4950 [00:29<00:00, 170.18it/s]\n"
     ]
    }
   ],
   "source": [
    "Y_test_pred = skim.predict(X_test)\n",
    "variation_intercept = lanova.get_variation_at_order(X_test, 0)\n",
    "variation_additive = lanova.get_variation_at_order(X_test, 1)\n",
    "variation_pairwise = lanova.get_variation_at_order(X_test, 2)"
   ]
  },
  {
   "cell_type": "markdown",
   "id": "9fb1827d",
   "metadata": {},
   "source": [
    "# Global importance of each feature (i.e., the \"sobol index\")"
   ]
  },
  {
   "cell_type": "code",
   "execution_count": 14,
   "id": "0dfe44ea",
   "metadata": {},
   "outputs": [],
   "source": [
    "# The sum of the variation at each order recovers the prediction output\n",
    "check = variation_intercept + variation_additive + variation_pairwise\n",
    "assert jnp.abs(Y_test_pred - check).max() < 1e-5"
   ]
  },
  {
   "cell_type": "code",
   "execution_count": 17,
   "id": "cebd06bf",
   "metadata": {},
   "outputs": [
    {
     "name": "stderr",
     "output_type": "stream",
     "text": [
      "100%|████████████████████████████████████████████████████████████████████████████████████████████████████| 5051/5051 [00:28<00:00, 179.21it/s]\n"
     ]
    }
   ],
   "source": [
    "decomposition = lanova.get_decomposition(X_train)"
   ]
  },
  {
   "cell_type": "code",
   "execution_count": 25,
   "id": "a219f203",
   "metadata": {},
   "outputs": [
    {
     "name": "stderr",
     "output_type": "stream",
     "text": [
      "100%|██████████████████████████████████████████████████████████████████████████████████████████████████████| 100/100 [00:00<00:00, 162.26it/s]\n",
      "100%|██████████████████████████████████████████████████████████████████████████████████████████████████████| 100/100 [00:00<00:00, 157.81it/s]\n",
      "100%|██████████████████████████████████████████████████████████████████████████████████████████████████████| 100/100 [00:00<00:00, 177.50it/s]\n",
      "100%|██████████████████████████████████████████████████████████████████████████████████████████████████████| 100/100 [00:00<00:00, 161.99it/s]\n",
      "100%|██████████████████████████████████████████████████████████████████████████████████████████████████████| 100/100 [00:00<00:00, 173.68it/s]\n",
      "100%|██████████████████████████████████████████████████████████████████████████████████████████████████████| 100/100 [00:00<00:00, 173.31it/s]\n",
      "100%|██████████████████████████████████████████████████████████████████████████████████████████████████████| 100/100 [00:00<00:00, 180.24it/s]\n",
      "100%|██████████████████████████████████████████████████████████████████████████████████████████████████████| 100/100 [00:00<00:00, 179.98it/s]\n",
      "100%|██████████████████████████████████████████████████████████████████████████████████████████████████████| 100/100 [00:00<00:00, 180.87it/s]\n",
      "100%|██████████████████████████████████████████████████████████████████████████████████████████████████████| 100/100 [00:00<00:00, 180.20it/s]\n",
      "100%|██████████████████████████████████████████████████████████████████████████████████████████████████████| 100/100 [00:00<00:00, 173.29it/s]\n",
      "100%|██████████████████████████████████████████████████████████████████████████████████████████████████████| 100/100 [00:00<00:00, 175.71it/s]\n",
      "100%|██████████████████████████████████████████████████████████████████████████████████████████████████████| 100/100 [00:00<00:00, 179.78it/s]\n",
      "100%|██████████████████████████████████████████████████████████████████████████████████████████████████████| 100/100 [00:00<00:00, 182.88it/s]\n",
      "100%|██████████████████████████████████████████████████████████████████████████████████████████████████████| 100/100 [00:00<00:00, 175.32it/s]\n",
      "100%|██████████████████████████████████████████████████████████████████████████████████████████████████████| 100/100 [00:00<00:00, 178.28it/s]\n",
      "100%|██████████████████████████████████████████████████████████████████████████████████████████████████████| 100/100 [00:00<00:00, 173.52it/s]\n",
      "100%|██████████████████████████████████████████████████████████████████████████████████████████████████████| 100/100 [00:00<00:00, 177.67it/s]\n",
      "100%|██████████████████████████████████████████████████████████████████████████████████████████████████████| 100/100 [00:00<00:00, 175.43it/s]\n",
      "100%|██████████████████████████████████████████████████████████████████████████████████████████████████████| 100/100 [00:00<00:00, 175.76it/s]\n",
      "100%|██████████████████████████████████████████████████████████████████████████████████████████████████████| 100/100 [00:00<00:00, 182.18it/s]\n",
      "100%|██████████████████████████████████████████████████████████████████████████████████████████████████████| 100/100 [00:00<00:00, 165.08it/s]\n",
      "100%|██████████████████████████████████████████████████████████████████████████████████████████████████████| 100/100 [00:00<00:00, 176.69it/s]\n",
      "100%|██████████████████████████████████████████████████████████████████████████████████████████████████████| 100/100 [00:00<00:00, 177.69it/s]\n",
      "100%|██████████████████████████████████████████████████████████████████████████████████████████████████████| 100/100 [00:00<00:00, 175.39it/s]\n",
      "100%|██████████████████████████████████████████████████████████████████████████████████████████████████████| 100/100 [00:00<00:00, 177.67it/s]\n",
      "100%|██████████████████████████████████████████████████████████████████████████████████████████████████████| 100/100 [00:00<00:00, 173.01it/s]\n",
      "100%|██████████████████████████████████████████████████████████████████████████████████████████████████████| 100/100 [00:00<00:00, 172.71it/s]\n",
      "100%|██████████████████████████████████████████████████████████████████████████████████████████████████████| 100/100 [00:00<00:00, 169.53it/s]\n",
      "100%|██████████████████████████████████████████████████████████████████████████████████████████████████████| 100/100 [00:00<00:00, 171.44it/s]\n",
      "100%|██████████████████████████████████████████████████████████████████████████████████████████████████████| 100/100 [00:00<00:00, 169.39it/s]\n",
      "100%|██████████████████████████████████████████████████████████████████████████████████████████████████████| 100/100 [00:00<00:00, 172.50it/s]\n",
      "100%|██████████████████████████████████████████████████████████████████████████████████████████████████████| 100/100 [00:00<00:00, 175.70it/s]\n",
      "100%|██████████████████████████████████████████████████████████████████████████████████████████████████████| 100/100 [00:00<00:00, 174.83it/s]\n",
      "100%|██████████████████████████████████████████████████████████████████████████████████████████████████████| 100/100 [00:00<00:00, 166.94it/s]\n",
      "100%|██████████████████████████████████████████████████████████████████████████████████████████████████████| 100/100 [00:00<00:00, 179.75it/s]\n",
      "100%|██████████████████████████████████████████████████████████████████████████████████████████████████████| 100/100 [00:00<00:00, 175.93it/s]\n",
      "100%|██████████████████████████████████████████████████████████████████████████████████████████████████████| 100/100 [00:00<00:00, 166.69it/s]\n",
      "100%|██████████████████████████████████████████████████████████████████████████████████████████████████████| 100/100 [00:00<00:00, 166.07it/s]\n",
      "100%|██████████████████████████████████████████████████████████████████████████████████████████████████████| 100/100 [00:00<00:00, 173.69it/s]\n",
      "100%|██████████████████████████████████████████████████████████████████████████████████████████████████████| 100/100 [00:00<00:00, 175.94it/s]\n",
      "100%|██████████████████████████████████████████████████████████████████████████████████████████████████████| 100/100 [00:00<00:00, 172.55it/s]\n",
      "100%|██████████████████████████████████████████████████████████████████████████████████████████████████████| 100/100 [00:00<00:00, 175.44it/s]\n",
      "100%|██████████████████████████████████████████████████████████████████████████████████████████████████████| 100/100 [00:00<00:00, 172.73it/s]\n",
      "100%|██████████████████████████████████████████████████████████████████████████████████████████████████████| 100/100 [00:00<00:00, 179.43it/s]\n",
      "100%|██████████████████████████████████████████████████████████████████████████████████████████████████████| 100/100 [00:00<00:00, 174.86it/s]\n",
      "100%|██████████████████████████████████████████████████████████████████████████████████████████████████████| 100/100 [00:00<00:00, 177.22it/s]\n",
      "100%|██████████████████████████████████████████████████████████████████████████████████████████████████████| 100/100 [00:00<00:00, 159.89it/s]\n",
      "100%|██████████████████████████████████████████████████████████████████████████████████████████████████████| 100/100 [00:00<00:00, 161.77it/s]\n",
      "100%|██████████████████████████████████████████████████████████████████████████████████████████████████████| 100/100 [00:00<00:00, 167.51it/s]\n",
      "100%|██████████████████████████████████████████████████████████████████████████████████████████████████████| 100/100 [00:00<00:00, 173.83it/s]\n",
      "100%|██████████████████████████████████████████████████████████████████████████████████████████████████████| 100/100 [00:00<00:00, 165.29it/s]\n",
      "100%|██████████████████████████████████████████████████████████████████████████████████████████████████████| 100/100 [00:00<00:00, 179.25it/s]\n",
      "100%|██████████████████████████████████████████████████████████████████████████████████████████████████████| 100/100 [00:00<00:00, 169.03it/s]\n",
      "100%|██████████████████████████████████████████████████████████████████████████████████████████████████████| 100/100 [00:00<00:00, 160.63it/s]\n",
      "100%|██████████████████████████████████████████████████████████████████████████████████████████████████████| 100/100 [00:00<00:00, 153.72it/s]\n",
      "100%|██████████████████████████████████████████████████████████████████████████████████████████████████████| 100/100 [00:00<00:00, 164.65it/s]\n"
     ]
    },
    {
     "name": "stderr",
     "output_type": "stream",
     "text": [
      "100%|██████████████████████████████████████████████████████████████████████████████████████████████████████| 100/100 [00:00<00:00, 151.48it/s]\n",
      "100%|██████████████████████████████████████████████████████████████████████████████████████████████████████| 100/100 [00:00<00:00, 165.24it/s]\n",
      "100%|██████████████████████████████████████████████████████████████████████████████████████████████████████| 100/100 [00:00<00:00, 172.19it/s]\n",
      "100%|██████████████████████████████████████████████████████████████████████████████████████████████████████| 100/100 [00:00<00:00, 172.39it/s]\n",
      "100%|██████████████████████████████████████████████████████████████████████████████████████████████████████| 100/100 [00:00<00:00, 179.60it/s]\n",
      "100%|██████████████████████████████████████████████████████████████████████████████████████████████████████| 100/100 [00:00<00:00, 176.61it/s]\n",
      "100%|██████████████████████████████████████████████████████████████████████████████████████████████████████| 100/100 [00:00<00:00, 179.80it/s]\n",
      "100%|██████████████████████████████████████████████████████████████████████████████████████████████████████| 100/100 [00:00<00:00, 134.47it/s]\n",
      "100%|██████████████████████████████████████████████████████████████████████████████████████████████████████| 100/100 [00:00<00:00, 133.01it/s]\n",
      "100%|██████████████████████████████████████████████████████████████████████████████████████████████████████| 100/100 [00:00<00:00, 170.16it/s]\n",
      "100%|██████████████████████████████████████████████████████████████████████████████████████████████████████| 100/100 [00:00<00:00, 177.27it/s]\n",
      "100%|██████████████████████████████████████████████████████████████████████████████████████████████████████| 100/100 [00:00<00:00, 177.46it/s]\n",
      "100%|██████████████████████████████████████████████████████████████████████████████████████████████████████| 100/100 [00:00<00:00, 176.25it/s]\n",
      "100%|██████████████████████████████████████████████████████████████████████████████████████████████████████| 100/100 [00:00<00:00, 177.54it/s]\n",
      "100%|██████████████████████████████████████████████████████████████████████████████████████████████████████| 100/100 [00:00<00:00, 172.01it/s]\n",
      "100%|██████████████████████████████████████████████████████████████████████████████████████████████████████| 100/100 [00:00<00:00, 157.89it/s]\n",
      "100%|██████████████████████████████████████████████████████████████████████████████████████████████████████| 100/100 [00:00<00:00, 179.69it/s]\n",
      "100%|██████████████████████████████████████████████████████████████████████████████████████████████████████| 100/100 [00:00<00:00, 167.11it/s]\n",
      "100%|██████████████████████████████████████████████████████████████████████████████████████████████████████| 100/100 [00:00<00:00, 162.72it/s]\n",
      "100%|██████████████████████████████████████████████████████████████████████████████████████████████████████| 100/100 [00:00<00:00, 177.22it/s]\n",
      "100%|██████████████████████████████████████████████████████████████████████████████████████████████████████| 100/100 [00:00<00:00, 177.02it/s]\n",
      "100%|██████████████████████████████████████████████████████████████████████████████████████████████████████| 100/100 [00:00<00:00, 178.49it/s]\n",
      "100%|██████████████████████████████████████████████████████████████████████████████████████████████████████| 100/100 [00:00<00:00, 174.17it/s]\n",
      "100%|██████████████████████████████████████████████████████████████████████████████████████████████████████| 100/100 [00:00<00:00, 167.75it/s]\n",
      "100%|██████████████████████████████████████████████████████████████████████████████████████████████████████| 100/100 [00:00<00:00, 157.41it/s]\n",
      "100%|██████████████████████████████████████████████████████████████████████████████████████████████████████| 100/100 [00:00<00:00, 151.00it/s]\n",
      "100%|██████████████████████████████████████████████████████████████████████████████████████████████████████| 100/100 [00:00<00:00, 152.81it/s]\n",
      "100%|██████████████████████████████████████████████████████████████████████████████████████████████████████| 100/100 [00:00<00:00, 128.10it/s]\n",
      "100%|██████████████████████████████████████████████████████████████████████████████████████████████████████| 100/100 [00:00<00:00, 113.04it/s]\n",
      "100%|██████████████████████████████████████████████████████████████████████████████████████████████████████| 100/100 [00:00<00:00, 148.19it/s]\n",
      "100%|██████████████████████████████████████████████████████████████████████████████████████████████████████| 100/100 [00:00<00:00, 170.33it/s]\n",
      "100%|██████████████████████████████████████████████████████████████████████████████████████████████████████| 100/100 [00:00<00:00, 169.69it/s]\n",
      "100%|██████████████████████████████████████████████████████████████████████████████████████████████████████| 100/100 [00:00<00:00, 171.55it/s]\n",
      "100%|██████████████████████████████████████████████████████████████████████████████████████████████████████| 100/100 [00:00<00:00, 177.55it/s]\n",
      "100%|██████████████████████████████████████████████████████████████████████████████████████████████████████| 100/100 [00:00<00:00, 174.00it/s]\n",
      "100%|██████████████████████████████████████████████████████████████████████████████████████████████████████| 100/100 [00:00<00:00, 166.47it/s]\n",
      "100%|██████████████████████████████████████████████████████████████████████████████████████████████████████| 100/100 [00:00<00:00, 171.77it/s]\n",
      "100%|██████████████████████████████████████████████████████████████████████████████████████████████████████| 100/100 [00:00<00:00, 174.90it/s]\n",
      "100%|██████████████████████████████████████████████████████████████████████████████████████████████████████| 100/100 [00:00<00:00, 164.75it/s]\n",
      "100%|██████████████████████████████████████████████████████████████████████████████████████████████████████| 100/100 [00:00<00:00, 157.20it/s]\n",
      "100%|██████████████████████████████████████████████████████████████████████████████████████████████████████| 100/100 [00:00<00:00, 161.69it/s]\n",
      "100%|██████████████████████████████████████████████████████████████████████████████████████████████████████| 100/100 [00:00<00:00, 174.21it/s]\n",
      "100%|██████████████████████████████████████████████████████████████████████████████████████████████████████| 100/100 [00:00<00:00, 173.67it/s]\n"
     ]
    }
   ],
   "source": [
    "covariate_variation = dict()\n",
    "for cov_ix in lanova.selected_covs:\n",
    "    covariate_variation[cov_ix] = lanova.get_variation_at_covariate(X_train, cov_ix).var().item()"
   ]
  },
  {
   "cell_type": "code",
   "execution_count": null,
   "id": "f1df3b1c",
   "metadata": {},
   "outputs": [],
   "source": [
    "def plot_feature_importance(importance,names,model_type):\n",
    "    #Create arrays from feature importance and feature names\n",
    "    feature_importance = np.array(importance)\n",
    "    feature_names = np.array(names)\n",
    "\n",
    "    #Create a DataFrame using a Dictionary\n",
    "    data={'feature_names':feature_names,'feature_importance':feature_importance}\n",
    "    fi_df = pd.DataFrame(data)\n",
    "\n",
    "    #Sort the DataFrame in order decreasing feature importance\n",
    "    fi_df.sort_values(by=['feature_importance'], ascending=False,inplace=True))\n",
    "\n",
    "    #Define size of bar plot\n",
    "    plt.figure(figsize=(10,8))\n",
    "    #Plot Searborn bar chart\n",
    "    sns.barplot(x=fi_df['feature_importance'], y=fi_df['feature_names'])\n",
    "    #Add chart labels\n",
    "    plt.title(model_type + 'FEATURE IMPORTANCE')\n",
    "    plt.xlabel('FEATURE IMPORTANCE')\n",
    "    plt.ylabel('FEATURE NAMES')"
   ]
  },
  {
   "cell_type": "code",
   "execution_count": 108,
   "id": "8bf0ccfa",
   "metadata": {},
   "outputs": [],
   "source": [
    "import matplotlib.pyplot as plt\n",
    "import matplotlib.ticker as mtick\n",
    "\n",
    "import seaborn as sns\n",
    "import pandas as pd\n",
    "from fava.plots.colors import red_rgb, blue_rgb\n",
    "\n",
    "sns.set_style('whitegrid')\n",
    "\n",
    "def make_name(cov_ix):\n",
    "    return f'Feature {cov_ix}'\n",
    "    \n",
    "\n",
    "max_feats = 10\n",
    "sobol_index_df = pd.DataFrame(list(covariate_variation.items()))\n",
    "sobol_index_df.columns = ['cov_ix', 'variance']\n",
    "sobol_index_df['names'] = sobol_index_df['cov_ix'].apply(make_name)\n",
    "sobol_index_df = sobol_index_df.sort_values(by='variance', ascending=False)\n",
    "sobol_index_df['norm_variance'] = 100 * sobol_index_df['variance'].values / sobol_index_df['variance'].sum()\n",
    "\n",
    "if sobol_index_df.shape[0] > max_feats:\n",
    "    top_feats = sobol_index_df.head(max_feats)\n",
    "    n_removed_feats = sobol_index_df.shape[0] - max_feats\n",
    "    remaining_feats = sobol_index_df.tail(n_removed_feats)\n",
    "    remaining_variance = remaining_feats['norm_variance'].sum()\n",
    "    remain_df = pd.DataFrame({'names': [f'{n_removed_feats} other features'], 'norm_variance': [remaining_variance]})\n",
    "    top_feats = pd.concat([top_feats, remain_df])\n",
    "            \n"
   ]
  },
  {
   "cell_type": "code",
   "execution_count": 109,
   "id": "1279e8df",
   "metadata": {},
   "outputs": [
    {
     "data": {
      "text/html": [
       "<div>\n",
       "<style scoped>\n",
       "    .dataframe tbody tr th:only-of-type {\n",
       "        vertical-align: middle;\n",
       "    }\n",
       "\n",
       "    .dataframe tbody tr th {\n",
       "        vertical-align: top;\n",
       "    }\n",
       "\n",
       "    .dataframe thead th {\n",
       "        text-align: right;\n",
       "    }\n",
       "</style>\n",
       "<table border=\"1\" class=\"dataframe\">\n",
       "  <thead>\n",
       "    <tr style=\"text-align: right;\">\n",
       "      <th></th>\n",
       "      <th>cov_ix</th>\n",
       "      <th>variance</th>\n",
       "      <th>names</th>\n",
       "      <th>norm_variance</th>\n",
       "    </tr>\n",
       "  </thead>\n",
       "  <tbody>\n",
       "    <tr>\n",
       "      <th>1</th>\n",
       "      <td>1.0</td>\n",
       "      <td>0.981458</td>\n",
       "      <td>Feature 1</td>\n",
       "      <td>25.814686</td>\n",
       "    </tr>\n",
       "    <tr>\n",
       "      <th>0</th>\n",
       "      <td>0.0</td>\n",
       "      <td>0.783941</td>\n",
       "      <td>Feature 0</td>\n",
       "      <td>20.619503</td>\n",
       "    </tr>\n",
       "    <tr>\n",
       "      <th>2</th>\n",
       "      <td>2.0</td>\n",
       "      <td>0.649049</td>\n",
       "      <td>Feature 2</td>\n",
       "      <td>17.071520</td>\n",
       "    </tr>\n",
       "    <tr>\n",
       "      <th>3</th>\n",
       "      <td>3.0</td>\n",
       "      <td>0.631188</td>\n",
       "      <td>Feature 3</td>\n",
       "      <td>16.601743</td>\n",
       "    </tr>\n",
       "    <tr>\n",
       "      <th>91</th>\n",
       "      <td>91.0</td>\n",
       "      <td>0.052107</td>\n",
       "      <td>Feature 91</td>\n",
       "      <td>1.370530</td>\n",
       "    </tr>\n",
       "    <tr>\n",
       "      <th>21</th>\n",
       "      <td>21.0</td>\n",
       "      <td>0.051725</td>\n",
       "      <td>Feature 21</td>\n",
       "      <td>1.360485</td>\n",
       "    </tr>\n",
       "    <tr>\n",
       "      <th>13</th>\n",
       "      <td>13.0</td>\n",
       "      <td>0.046986</td>\n",
       "      <td>Feature 13</td>\n",
       "      <td>1.235838</td>\n",
       "    </tr>\n",
       "    <tr>\n",
       "      <th>65</th>\n",
       "      <td>65.0</td>\n",
       "      <td>0.041635</td>\n",
       "      <td>Feature 65</td>\n",
       "      <td>1.095098</td>\n",
       "    </tr>\n",
       "    <tr>\n",
       "      <th>63</th>\n",
       "      <td>63.0</td>\n",
       "      <td>0.036420</td>\n",
       "      <td>Feature 63</td>\n",
       "      <td>0.957929</td>\n",
       "    </tr>\n",
       "    <tr>\n",
       "      <th>52</th>\n",
       "      <td>52.0</td>\n",
       "      <td>0.029750</td>\n",
       "      <td>Feature 52</td>\n",
       "      <td>0.782499</td>\n",
       "    </tr>\n",
       "    <tr>\n",
       "      <th>0</th>\n",
       "      <td>NaN</td>\n",
       "      <td>NaN</td>\n",
       "      <td>90 other features</td>\n",
       "      <td>13.090170</td>\n",
       "    </tr>\n",
       "  </tbody>\n",
       "</table>\n",
       "</div>"
      ],
      "text/plain": [
       "    cov_ix  variance              names  norm_variance\n",
       "1      1.0  0.981458          Feature 1      25.814686\n",
       "0      0.0  0.783941          Feature 0      20.619503\n",
       "2      2.0  0.649049          Feature 2      17.071520\n",
       "3      3.0  0.631188          Feature 3      16.601743\n",
       "91    91.0  0.052107         Feature 91       1.370530\n",
       "21    21.0  0.051725         Feature 21       1.360485\n",
       "13    13.0  0.046986         Feature 13       1.235838\n",
       "65    65.0  0.041635         Feature 65       1.095098\n",
       "63    63.0  0.036420         Feature 63       0.957929\n",
       "52    52.0  0.029750         Feature 52       0.782499\n",
       "0      NaN       NaN  90 other features      13.090170"
      ]
     },
     "execution_count": 109,
     "metadata": {},
     "output_type": "execute_result"
    }
   ],
   "source": [
    "top_feats"
   ]
  },
  {
   "cell_type": "code",
   "execution_count": 110,
   "id": "27a74eb9",
   "metadata": {},
   "outputs": [
    {
     "data": {
      "image/png": "[encoded data removed]",
      "text/plain": [
       "<Figure size 500x500 with 1 Axes>"
      ]
     },
     "metadata": {},
     "output_type": "display_data"
    }
   ],
   "source": [
    "fig, ax = plt.subplots(figsize=(5, 5), dpi=100)\n",
    "sns.barplot(x='norm_variance', y='names', data=top_feats, color=blue_rgb)\n",
    "plt.xlabel('Proportion of Variance Explained')\n",
    "plt.ylabel('')\n",
    "ax.xaxis.set_major_formatter(mtick.PercentFormatter())\n",
    "sns.despine()"
   ]
  },
  {
   "cell_type": "code",
   "execution_count": null,
   "id": "6dd60052",
   "metadata": {},
   "outputs": [],
   "source": []
  },
  {
   "cell_type": "code",
   "execution_count": null,
   "id": "b876ad4e",
   "metadata": {},
   "outputs": [],
   "source": []
  },
  {
   "cell_type": "code",
   "execution_count": null,
   "id": "aaba219e",
   "metadata": {},
   "outputs": [],
   "source": []
  },
  {
   "cell_type": "markdown",
   "id": "9ea5671b",
   "metadata": {},
   "source": [
    "# Plot an explanation of a single prediction as a waterfall plot"
   ]
  },
  {
   "cell_type": "code",
   "execution_count": 16,
   "id": "d5c72173",
   "metadata": {},
   "outputs": [
    {
     "name": "stderr",
     "output_type": "stream",
     "text": [
      "100%|████████████████████████████████████████████████████████████████████████████████████████████████████| 5051/5051 [00:28<00:00, 177.27it/s]\n"
     ]
    },
    {
     "data": {
      "image/png": "[encoded data removed]",
      "text/plain": [
       "<Figure size 576x468 with 1 Axes>"
      ]
     },
     "metadata": {
      "needs_background": "light"
     },
     "output_type": "display_data"
    }
   ],
   "source": [
    "# Prediction attribution breakdown for first test datapoint\n",
    "anova_waterfall(X_test[0,:], lanova, [str(i) for i in range(p)])"
   ]
  }
 ],
 "metadata": {
  "kernelspec": {
   "display_name": "Python 3 (ipykernel)",
   "language": "python",
   "name": "python3"
  },
  "language_info": {
   "codemirror_mode": {
    "name": "ipython",
    "version": 3
   },
   "file_extension": ".py",
   "mimetype": "text/x-python",
   "name": "python",
   "nbconvert_exporter": "python",
   "pygments_lexer": "ipython3",
   "version": "3.9.12"
  }
 },
 "nbformat": 4,
 "nbformat_minor": 5
}
