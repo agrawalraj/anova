{
 "cells": [
  {
   "cell_type": "code",
   "execution_count": 23,
   "id": "ead02c3b",
   "metadata": {},
   "outputs": [],
   "source": [
    "import pandas as pd\n",
    "import numpy as np\n",
    "\n",
    "import jax.numpy as jnp\n",
    "from jax import grad, jit, vmap\n",
    "from jax import random\n",
    "from jax.scipy.special import expit\n",
    "import jax\n",
    "import math\n",
    "\n",
    "from fava.inference.fit import GaussianSKIMFA\n",
    "from fava.basis.maps import LinearBasis, RepeatedFiniteBasis, TreeBasis\n",
    "from fava.misc.scheduler import constantScheduler\n",
    "from fava.misc.logger import GausLogger\n",
    "from fava.decomposers.tensor_product import TensorProductKernelANOVA, LinearANOVA\n",
    "from sklearn.ensemble import RandomForestClassifier\n",
    "from sklearn.model_selection import train_test_split\n",
    "from sklearn.metrics import roc_auc_score\n",
    "from sklearn.linear_model import RidgeCV\n",
    "from sklearn.preprocessing import PolynomialFeatures\n"
   ]
  },
  {
   "cell_type": "code",
   "execution_count": 24,
   "id": "76dace53",
   "metadata": {},
   "outputs": [],
   "source": [
    "key = random.PRNGKey(0)\n",
    "N = 1000\n",
    "p = 10\n",
    "X = random.normal(key, shape=(N, p))\n",
    "frac_train = .8\n",
    "N_train = int(N * frac_train)\n",
    "\n",
    "f_X = X[:, 0] + X[:, 1] + X[:, 2] * X[:, 3]\n",
    "f_probs = expit(f_X)\n",
    "\n",
    "Y = jnp.array(2 * random.bernoulli(key, f_probs) - 1, dtype=jnp.float32)\n",
    "\n",
    "X_train = X[:N_train, :]\n",
    "Y_train = Y[:N_train]\n",
    "\n",
    "X_valid = X[N_train:, :]\n",
    "Y_valid = Y[N_train:]"
   ]
  },
  {
   "cell_type": "code",
   "execution_count": 25,
   "id": "60a9856a",
   "metadata": {},
   "outputs": [
    {
     "name": "stderr",
     "output_type": "stream",
     "text": [
      "  0%|▍                                                                                                        | 1/250 [00:00<01:20,  3.10it/s]"
     ]
    },
    {
     "name": "stdout",
     "output_type": "stream",
     "text": [
      "============================== Iteration 0/250 ==============================\n",
      "There are 10 covariates selected.\n",
      "MSE (Validation)=0.750066339969635.\n",
      "R2 (Validation)=0.24380850791931152.\n",
      "eta=[1.0000012  0.99953175 0.99983126]\n",
      "kappa=[0.4998755  0.49995202 0.5000333  0.49998212 0.49995038 0.4998691\n",
      " 0.5000507  0.4999922  0.49990714 0.49998403]\n"
     ]
    },
    {
     "name": "stderr",
     "output_type": "stream",
     "text": [
      " 40%|█████████████████████████████████████████▌                                                             | 101/250 [00:21<00:35,  4.24it/s]"
     ]
    },
    {
     "name": "stdout",
     "output_type": "stream",
     "text": [
      "============================== Iteration 100/250 ==============================\n",
      "There are 10 covariates selected.\n",
      "MSE (Validation)=0.7519117593765259.\n",
      "R2 (Validation)=0.24194806814193726.\n",
      "eta=[0.9999719  0.96365047 0.9760169 ]\n",
      "kappa=[0.4896515  0.49566108 0.50273377 0.4973725  0.4946751  0.4861879\n",
      " 0.5037017  0.49847153 0.49094585 0.49770862]\n"
     ]
    },
    {
     "name": "stderr",
     "output_type": "stream",
     "text": [
      " 80%|██████████████████████████████████████████████████████████████████████████████████▊                    | 201/250 [00:42<00:11,  4.30it/s]"
     ]
    },
    {
     "name": "stdout",
     "output_type": "stream",
     "text": [
      "============================== Iteration 200/250 ==============================\n",
      "There are 10 covariates selected.\n",
      "MSE (Validation)=0.7513584494590759.\n",
      "R2 (Validation)=0.24250584840774536.\n",
      "eta=[0.99995965 0.92856145 0.9409224 ]\n",
      "kappa=[0.4800974  0.4889873  0.5049225  0.49380374 0.4887226  0.4685794\n",
      " 0.50669765 0.49626207 0.47936398 0.49455035]\n"
     ]
    },
    {
     "name": "stderr",
     "output_type": "stream",
     "text": [
      "100%|███████████████████████████████████████████████████████████████████████████████████████████████████████| 250/250 [00:52<00:00,  4.79it/s]\n"
     ]
    }
   ],
   "source": [
    "key = random.PRNGKey(0)\n",
    "p = X.shape[1]\n",
    "\n",
    "kernel_params = dict()\n",
    "Q = 2\n",
    "kernel_params['U_tilde'] = jnp.ones(p)\n",
    "kernel_params['eta'] = jnp.ones(Q+1)\n",
    "\n",
    "hyperparams = dict()\n",
    "hyperparams['sigma_sq'] = .5 #\n",
    "hyperparams['c'] = 0.\n",
    "\n",
    "opt_params = dict()\n",
    "opt_params['cg'] = True\n",
    "opt_params['cg_tol'] = .01\n",
    "opt_params['M'] = 100\n",
    "opt_params['gamma'] = .1\n",
    "opt_params['T'] = 250\n",
    "\n",
    "featprocessor = LinearBasis(X_train)\n",
    "\n",
    "scheduler = constantScheduler()\n",
    "logger = GausLogger(100)\n",
    "\n",
    "opt_params['scheduler'] = scheduler\n",
    "\n",
    "skim = GaussianSKIMFA(X_train, Y_train, X_valid, Y_valid, featprocessor)\n",
    "\n",
    "skim.fit(key, hyperparams, kernel_params, opt_params, \n",
    "            logger=GausLogger())"
   ]
  },
  {
   "cell_type": "code",
   "execution_count": 26,
   "id": "e7eaa5a4",
   "metadata": {},
   "outputs": [
    {
     "name": "stdout",
     "output_type": "stream",
     "text": [
      "SKIM-FA AUROC: 0.8157072285512652\n",
      "SKIM-FA Brier Score: 0.7513584494590759\n"
     ]
    }
   ],
   "source": [
    "print(f'SKIM-FA AUROC: {roc_auc_score(Y_valid, skim.predict(X_valid))}')\n",
    "print(f'SKIM-FA Brier Score: {((Y_valid - skim.predict(X_valid)) ** 2).mean()}')\n"
   ]
  },
  {
   "cell_type": "code",
   "execution_count": 27,
   "id": "d246d1c7",
   "metadata": {},
   "outputs": [],
   "source": [
    "from sklearn.linear_model import LogisticRegression"
   ]
  },
  {
   "cell_type": "code",
   "execution_count": 28,
   "id": "551ac79d",
   "metadata": {},
   "outputs": [],
   "source": [
    "platt = LogisticRegression(penalty=None, fit_intercept=True)\n",
    "skim_train_scores = np.array(skim.predict(X_train)).reshape((X_train.shape[0],1))\n",
    "skim_val_scores = np.array(skim.predict(X_valid)).reshape((X_valid.shape[0],1))"
   ]
  },
  {
   "cell_type": "code",
   "execution_count": 29,
   "id": "031656f1",
   "metadata": {},
   "outputs": [],
   "source": [
    "clf = LogisticRegression(random_state=0).fit(skim_train_scores, np.array(Y_train))"
   ]
  },
  {
   "cell_type": "code",
   "execution_count": 30,
   "id": "e65adbda",
   "metadata": {},
   "outputs": [
    {
     "name": "stdout",
     "output_type": "stream",
     "text": [
      "SKIM-FA Platt Brier Score: 0.1769619882106781\n"
     ]
    }
   ],
   "source": [
    "print(f'SKIM-FA Platt Brier Score: {(( (Y_valid + 1) / 2 - clf.predict_proba(skim_val_scores)[:, 1]) ** 2).mean()}')\n"
   ]
  },
  {
   "cell_type": "code",
   "execution_count": 31,
   "id": "9ebfb8ea",
   "metadata": {},
   "outputs": [],
   "source": [
    "from sklearn.calibration import calibration_curve"
   ]
  },
  {
   "cell_type": "code",
   "execution_count": 33,
   "id": "af49596b",
   "metadata": {},
   "outputs": [
    {
     "data": {
      "text/plain": [
       "(array([0.18181818, 0.34375   , 0.53125   , 0.70212766, 0.88888889]),\n",
       " array([0.08680025, 0.2946468 , 0.49819171, 0.7106324 , 0.89725811]))"
      ]
     },
     "execution_count": 33,
     "metadata": {},
     "output_type": "execute_result"
    }
   ],
   "source": [
    "calibration_curve((Y_valid + 1) / 2, clf.predict_proba(skim_val_scores)[:, 1], strategy='uniform')"
   ]
  },
  {
   "cell_type": "code",
   "execution_count": null,
   "id": "0b9dc79f",
   "metadata": {},
   "outputs": [],
   "source": []
  }
 ],
 "metadata": {
  "kernelspec": {
   "display_name": "Python 3 (ipykernel)",
   "language": "python",
   "name": "python3"
  },
  "language_info": {
   "codemirror_mode": {
    "name": "ipython",
    "version": 3
   },
   "file_extension": ".py",
   "mimetype": "text/x-python",
   "name": "python",
   "nbconvert_exporter": "python",
   "pygments_lexer": "ipython3",
   "version": "3.9.12"
  }
 },
 "nbformat": 4,
 "nbformat_minor": 5
}
