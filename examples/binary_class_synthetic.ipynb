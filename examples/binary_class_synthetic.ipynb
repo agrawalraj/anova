{
 "cells": [
  {
   "cell_type": "code",
   "execution_count": 34,
   "id": "4dcaf103",
   "metadata": {},
   "outputs": [],
   "source": [
    "import pandas as pd\n",
    "import numpy as np\n",
    "\n",
    "import jax.numpy as jnp\n",
    "from jax import grad, jit, vmap\n",
    "from jax import random\n",
    "from jax.scipy.special import expit\n",
    "import jax\n",
    "import math\n",
    "\n",
    "from fava.inference.fit import GaussianSKIMFA\n",
    "from fava.basis.maps import LinearBasis, RepeatedFiniteBasis, TreeBasis\n",
    "from fava.misc.scheduler import constantScheduler\n",
    "from fava.misc.logger import GausLogger\n",
    "from fava.decomposers.tensor_product import TensorProductKernelANOVA, LinearANOVA\n",
    "from sklearn.ensemble import RandomForestClassifier\n",
    "from sklearn.model_selection import train_test_split\n",
    "from sklearn.metrics import roc_auc_score\n",
    "from sklearn.linear_model import RidgeCV\n",
    "from sklearn.preprocessing import PolynomialFeatures\n"
   ]
  },
  {
   "cell_type": "code",
   "execution_count": 35,
   "id": "e00fb3a6",
   "metadata": {},
   "outputs": [],
   "source": [
    "key = random.PRNGKey(0)\n",
    "N = 1000\n",
    "p = 500\n",
    "X = random.normal(key, shape=(N, p))\n",
    "frac_train = .8\n",
    "N_train = int(N * frac_train)\n",
    "\n",
    "f_X = X[:, 0] + X[:, 1] + X[:, 2] * X[:, 3]\n",
    "f_probs = expit(f_X)\n",
    "\n",
    "Y = jnp.array(2 * random.bernoulli(key, f_probs) - 1, dtype=jnp.float32)\n",
    "\n",
    "X_train = X[:N_train, :]\n",
    "Y_train = Y[:N_train]\n",
    "\n",
    "X_valid = X[N_train:, :]\n",
    "Y_valid = Y[N_train:]"
   ]
  },
  {
   "cell_type": "code",
   "execution_count": 36,
   "id": "1995497b",
   "metadata": {},
   "outputs": [
    {
     "name": "stderr",
     "output_type": "stream",
     "text": [
      "\r",
      "  0%|                                                                                                                 | 0/250 [00:00<?, ?it/s]"
     ]
    },
    {
     "name": "stdout",
     "output_type": "stream",
     "text": [
      "============================== Iteration 0/250 ==============================\n",
      "There are 500 covariates selected.\n"
     ]
    },
    {
     "name": "stderr",
     "output_type": "stream",
     "text": [
      "\r",
      "  0%|▍                                                                                                      | 1/250 [00:19<1:18:54, 19.01s/it]"
     ]
    },
    {
     "name": "stdout",
     "output_type": "stream",
     "text": [
      "MSE (Validation)=0.9813737273216248.\n",
      "R2 (Validation)=0.015080571174621582.\n",
      "eta=[1.0000821 1.0003042 0.9995982]\n"
     ]
    },
    {
     "name": "stderr",
     "output_type": "stream",
     "text": [
      " 40%|█████████████████████████████████████████▏                                                             | 100/250 [14:59<32:43, 13.09s/it]"
     ]
    },
    {
     "name": "stdout",
     "output_type": "stream",
     "text": [
      "============================== Iteration 100/250 ==============================\n",
      "There are 500 covariates selected.\n"
     ]
    },
    {
     "name": "stderr",
     "output_type": "stream",
     "text": [
      "\r",
      " 40%|█████████████████████████████████████████▌                                                             | 101/250 [15:15<34:39, 13.96s/it]"
     ]
    },
    {
     "name": "stdout",
     "output_type": "stream",
     "text": [
      "MSE (Validation)=0.9771352410316467.\n",
      "R2 (Validation)=0.019334375858306885.\n",
      "eta=[1.0086261  1.0425109  0.94489825]\n"
     ]
    },
    {
     "name": "stderr",
     "output_type": "stream",
     "text": [
      " 80%|██████████████████████████████████████████████████████████████████████████████████▍                    | 200/250 [30:56<07:03,  8.48s/it]"
     ]
    },
    {
     "name": "stdout",
     "output_type": "stream",
     "text": [
      "============================== Iteration 200/250 ==============================\n",
      "There are 500 covariates selected.\n"
     ]
    },
    {
     "name": "stderr",
     "output_type": "stream",
     "text": [
      "\r",
      " 80%|██████████████████████████████████████████████████████████████████████████████████▊                    | 201/250 [31:10<08:21, 10.24s/it]"
     ]
    },
    {
     "name": "stdout",
     "output_type": "stream",
     "text": [
      "MSE (Validation)=0.9676838517189026.\n",
      "R2 (Validation)=0.028819918632507324.\n",
      "eta=[1.0183513 1.1183168 0.840724 ]\n"
     ]
    },
    {
     "name": "stderr",
     "output_type": "stream",
     "text": [
      "100%|███████████████████████████████████████████████████████████████████████████████████████████████████████| 250/250 [37:37<00:00,  9.03s/it]\n"
     ]
    }
   ],
   "source": [
    "key = random.PRNGKey(0)\n",
    "p = X.shape[1]\n",
    "\n",
    "kernel_params = dict()\n",
    "Q = 2\n",
    "kernel_params['U_tilde'] = jnp.ones(p)\n",
    "kernel_params['eta'] = jnp.ones(Q+1)\n",
    "\n",
    "hyperparams = dict()\n",
    "hyperparams['sigma_sq'] = .5 #\n",
    "hyperparams['c'] = 0.\n",
    "\n",
    "opt_params = dict()\n",
    "opt_params['cg'] = True\n",
    "opt_params['cg_tol'] = .01\n",
    "opt_params['M'] = 100\n",
    "opt_params['gamma'] = .1\n",
    "opt_params['T'] = 250\n",
    "\n",
    "featprocessor = LinearBasis(X_train)\n",
    "\n",
    "scheduler = constantScheduler()\n",
    "logger = GausLogger(100)\n",
    "\n",
    "opt_params['scheduler'] = scheduler\n",
    "\n",
    "skim = GaussianSKIMFA(X_train, Y_train, X_valid, Y_valid, featprocessor)\n",
    "\n",
    "skim.fit(key, hyperparams, kernel_params, opt_params, \n",
    "            logger=GausLogger())"
   ]
  },
  {
   "cell_type": "code",
   "execution_count": 37,
   "id": "a17789e3",
   "metadata": {},
   "outputs": [
    {
     "name": "stdout",
     "output_type": "stream",
     "text": [
      "SKIM-FA AUROC: 0.6206342834203131\n",
      "SKIM-FA Brier Score: 0.9676838517189026\n"
     ]
    }
   ],
   "source": [
    "print(f'SKIM-FA AUROC: {roc_auc_score(Y_valid, skim.predict(X_valid))}')\n",
    "print(f'SKIM-FA Brier Score: {((Y_valid - skim.predict(X_valid)) ** 2).mean()}')\n"
   ]
  },
  {
   "cell_type": "code",
   "execution_count": 38,
   "id": "aef83881",
   "metadata": {},
   "outputs": [],
   "source": [
    "from sklearn.linear_model import LogisticRegression"
   ]
  },
  {
   "cell_type": "code",
   "execution_count": 39,
   "id": "09d03703",
   "metadata": {},
   "outputs": [],
   "source": [
    "platt = LogisticRegression(penalty=None, fit_intercept=True)\n",
    "skim_train_scores = np.array(skim.predict(X_train)).reshape((X_train.shape[0],1))\n",
    "skim_val_scores = np.array(skim.predict(X_valid)).reshape((X_valid.shape[0],1))"
   ]
  },
  {
   "cell_type": "code",
   "execution_count": 40,
   "id": "2100ebdd",
   "metadata": {},
   "outputs": [],
   "source": [
    "clf = LogisticRegression(random_state=0).fit(skim_train_scores, np.array(Y_train))"
   ]
  },
  {
   "cell_type": "code",
   "execution_count": 41,
   "id": "ebbcaeaa",
   "metadata": {},
   "outputs": [
    {
     "name": "stdout",
     "output_type": "stream",
     "text": [
      "SKIM-FA Platt Brier Score: 0.23847563564777374\n"
     ]
    }
   ],
   "source": [
    "print(f'SKIM-FA Platt Brier Score: {(( (Y_valid + 1) / 2 - clf.predict_proba(skim_val_scores)[:, 1]) ** 2).mean()}')\n"
   ]
  },
  {
   "cell_type": "code",
   "execution_count": 42,
   "id": "af5f9558",
   "metadata": {},
   "outputs": [],
   "source": [
    "from sklearn.calibration import calibration_curve"
   ]
  },
  {
   "cell_type": "code",
   "execution_count": 43,
   "id": "2c3934d9",
   "metadata": {},
   "outputs": [
    {
     "data": {
      "text/plain": [
       "(array([0.3559322 , 0.47663551, 0.64705882]),\n",
       " array([0.3404627 , 0.50086778, 0.65969714]))"
      ]
     },
     "execution_count": 43,
     "metadata": {},
     "output_type": "execute_result"
    }
   ],
   "source": [
    "calibration_curve((Y_valid + 1) / 2, clf.predict_proba(skim_val_scores)[:, 1], strategy='uniform')"
   ]
  },
  {
   "cell_type": "code",
   "execution_count": 47,
   "id": "56c75a6b",
   "metadata": {},
   "outputs": [
    {
     "data": {
      "text/plain": [
       "DeviceArray([1.1348423 , 1.2061379 , 0.9805922 , 1.0668308 , 1.0190736 ,\n",
       "             1.0444973 , 1.0325366 , 0.9950604 , 1.0058379 , 1.0206655 ,\n",
       "             1.0078546 , 1.0415909 , 0.9039527 , 0.97189903, 0.9842333 ,\n",
       "             0.9624395 , 1.070714  , 0.9720688 , 1.0464646 , 1.0151324 ,\n",
       "             1.0098654 , 1.0186387 , 1.0152644 , 0.99518305, 0.9726318 ,\n",
       "             1.0363299 , 1.0600337 , 1.0121847 , 1.0043366 , 0.9453262 ,\n",
       "             1.0331128 , 0.9759302 , 0.98486143, 1.0138837 , 0.9974554 ,\n",
       "             1.0442245 , 1.0071584 , 1.0208308 , 1.0265887 , 1.0149293 ,\n",
       "             0.99740726, 0.96419924, 0.972902  , 0.96886194, 1.0540681 ,\n",
       "             0.9687943 , 0.9960209 , 0.93547916, 0.93620515, 1.0231416 ,\n",
       "             0.994825  , 1.0314397 , 0.98058456, 1.090109  , 0.9711593 ,\n",
       "             1.0565969 , 1.0879236 , 1.018731  , 1.0110527 , 0.96555936,\n",
       "             0.9676396 , 1.0244248 , 0.98148066, 0.94676876, 0.9207853 ,\n",
       "             0.9833672 , 0.9723256 , 1.0373062 , 1.0109128 , 0.9799935 ,\n",
       "             0.9867638 , 1.0149933 , 1.0013307 , 0.99182343, 0.9872593 ,\n",
       "             1.0451137 , 1.087856  , 1.014998  , 0.95699626, 1.033031  ,\n",
       "             1.0004873 , 1.0282881 , 0.9907621 , 1.0526533 , 0.95028275,\n",
       "             0.90619385, 1.0249295 , 1.0464373 , 1.0452725 , 1.0505723 ,\n",
       "             0.98812145, 1.0044706 , 1.0293837 , 0.96948814, 0.975694  ,\n",
       "             1.0217456 , 0.9975371 , 1.0132034 , 0.9797506 , 0.9922027 ,\n",
       "             1.0045307 , 1.0043541 , 0.9926658 , 0.94479036, 0.97976685,\n",
       "             1.0282867 , 0.9398365 , 0.94653875, 0.98193485, 1.0227394 ,\n",
       "             0.9314453 , 1.0104337 , 1.0653691 , 0.98195386, 1.0393378 ,\n",
       "             0.9924385 , 0.98516035, 1.0445957 , 0.99129415, 0.9479525 ,\n",
       "             0.97393036, 1.0281516 , 1.0161933 , 1.0146217 , 0.99190384,\n",
       "             1.0098048 , 0.9851615 , 0.99218374, 0.9496756 , 0.97924346,\n",
       "             1.010859  , 0.99858683, 1.0473051 , 1.0317146 , 0.8886839 ,\n",
       "             1.0744299 , 0.95729357, 0.96302915, 0.9514048 , 0.9537482 ,\n",
       "             1.0746777 , 0.9933996 , 1.0078834 , 1.0679142 , 1.033003  ,\n",
       "             0.9745066 , 1.0218879 , 0.99306786, 1.0014106 , 0.9532011 ,\n",
       "             0.95286614, 0.93608767, 1.0012851 , 1.0201259 , 0.9915029 ,\n",
       "             1.0262355 , 1.0131562 , 1.0454347 , 1.079848  , 0.98685503,\n",
       "             1.02984   , 1.0058223 , 1.0504901 , 1.0062186 , 0.89572585,\n",
       "             1.0292614 , 1.024762  , 0.99625665, 1.0215268 , 1.0356404 ,\n",
       "             0.99168766, 1.0169173 , 0.982929  , 1.0190533 , 0.9488592 ,\n",
       "             0.92862505, 1.0938325 , 0.9832144 , 0.9469473 , 0.9912799 ,\n",
       "             1.0318667 , 0.97497684, 0.929774  , 0.979612  , 1.0047762 ,\n",
       "             1.0387739 , 1.009403  , 0.9935433 , 1.0196356 , 0.9464096 ,\n",
       "             0.95732677, 1.0216165 , 1.0035625 , 1.0181557 , 0.9754384 ,\n",
       "             1.0029782 , 0.9883289 , 0.95668364, 1.0566752 , 0.98755485,\n",
       "             0.92055833, 1.0250227 , 1.0086123 , 0.970675  , 1.0518385 ,\n",
       "             0.96204615, 0.9682517 , 0.9634908 , 0.98812014, 0.99161154,\n",
       "             1.0439993 , 1.0141754 , 0.9803363 , 1.0221049 , 1.0149695 ,\n",
       "             0.96219397, 0.95454717, 1.0384488 , 1.0080096 , 0.91915745,\n",
       "             0.9787679 , 0.9421695 , 0.9989552 , 0.96340054, 1.0215665 ,\n",
       "             0.9643297 , 1.0180845 , 0.9177027 , 0.97368824, 0.9155838 ,\n",
       "             0.98372716, 0.94484127, 1.0007175 , 0.95861125, 1.0344143 ,\n",
       "             0.99552816, 1.0454328 , 1.0298578 , 1.0599282 , 0.92746747,\n",
       "             0.9998414 , 0.96966594, 1.043122  , 1.0088786 , 0.9675747 ,\n",
       "             1.0153476 , 1.0189312 , 0.97229826, 1.0096123 , 1.0051713 ,\n",
       "             0.9784591 , 0.96497005, 0.8975462 , 0.9826173 , 0.91354567,\n",
       "             0.9472193 , 1.008787  , 0.9622417 , 0.9650869 , 0.95146036,\n",
       "             1.0427871 , 1.0885181 , 0.94744986, 1.0191609 , 1.0443685 ,\n",
       "             1.0569631 , 0.9958478 , 0.99128497, 0.99425626, 0.9541433 ,\n",
       "             1.0314151 , 1.0198861 , 0.9795114 , 1.001364  , 1.0324527 ,\n",
       "             0.991454  , 0.9575604 , 1.0507904 , 0.9747768 , 0.96910024,\n",
       "             1.0023457 , 0.9906414 , 1.0220692 , 0.9327419 , 0.97355646,\n",
       "             0.9982328 , 0.97686076, 1.0545684 , 0.98024553, 0.96362984,\n",
       "             1.0044669 , 1.0099694 , 1.0098326 , 0.99758565, 1.0208397 ,\n",
       "             1.0590429 , 0.98750126, 0.9565698 , 0.9896129 , 1.1097023 ,\n",
       "             0.9631619 , 1.1055498 , 0.99825096, 0.9868851 , 0.97587645,\n",
       "             1.0230483 , 0.94725436, 1.0081015 , 1.0266939 , 1.008078  ,\n",
       "             0.99102896, 1.0620583 , 0.95975375, 1.009135  , 0.9655614 ,\n",
       "             0.9548684 , 0.9871122 , 1.0562682 , 0.99733955, 1.0466081 ,\n",
       "             0.9918517 , 1.0085696 , 1.023929  , 1.0233451 , 0.99492395,\n",
       "             1.0110524 , 0.95059496, 0.9908046 , 1.0141413 , 0.97096556,\n",
       "             0.9611672 , 0.9662673 , 0.98025304, 1.0026659 , 1.0036119 ,\n",
       "             1.0308913 , 1.046593  , 0.9421408 , 0.96631634, 1.0302212 ,\n",
       "             1.0061308 , 0.9951841 , 1.0084764 , 0.9940404 , 0.9661951 ,\n",
       "             1.0441861 , 1.0118958 , 0.95953983, 1.0210142 , 1.041095  ,\n",
       "             0.9677815 , 1.0098841 , 0.9556249 , 1.0391197 , 1.019428  ,\n",
       "             0.99986815, 1.0114137 , 0.99317807, 1.0400912 , 1.0036267 ,\n",
       "             0.94015545, 0.98214924, 1.0043306 , 0.9736792 , 1.002653  ,\n",
       "             1.0080224 , 1.0026281 , 0.9558703 , 1.0120424 , 0.9880992 ,\n",
       "             1.0015732 , 1.0214    , 1.0177515 , 0.9565277 , 0.9965369 ,\n",
       "             1.0487337 , 0.9705309 , 0.9381018 , 0.9911053 , 0.99447477,\n",
       "             0.9615336 , 1.0764737 , 1.0463947 , 0.97153544, 0.95918053,\n",
       "             1.0275646 , 0.9906203 , 0.99230224, 1.0326054 , 0.9758498 ,\n",
       "             0.96591055, 0.95245105, 0.9875092 , 1.0291092 , 1.0184956 ,\n",
       "             1.0572622 , 0.9861551 , 0.9851687 , 0.95440924, 1.0262183 ,\n",
       "             0.978872  , 0.9916248 , 1.0183252 , 0.9526026 , 0.9791693 ,\n",
       "             1.0544285 , 1.0081218 , 0.95424575, 0.98618066, 0.98389983,\n",
       "             1.0430098 , 1.0394104 , 0.97551125, 1.0300226 , 1.013716  ,\n",
       "             0.9657422 , 0.97894365, 0.9499273 , 1.025047  , 0.979773  ,\n",
       "             1.0408031 , 1.0343648 , 0.9625744 , 1.019358  , 1.0105764 ,\n",
       "             1.0711865 , 0.99102914, 1.0410051 , 1.0532237 , 1.0369396 ,\n",
       "             0.9618836 , 0.98212194, 1.0063721 , 1.0429341 , 0.9646035 ,\n",
       "             1.0840603 , 0.9976886 , 0.96926093, 0.97893614, 1.0225781 ,\n",
       "             1.0110716 , 0.98979396, 1.0002422 , 0.9995673 , 0.985964  ,\n",
       "             0.9764842 , 1.0018693 , 0.97523534, 1.0009077 , 0.9556774 ,\n",
       "             1.0890381 , 1.0118989 , 0.9915161 , 1.051925  , 0.9366779 ,\n",
       "             0.978837  , 1.0396512 , 1.017134  , 0.98234886, 1.0024397 ,\n",
       "             0.96016186, 0.9428689 , 1.017898  , 1.0060532 , 1.010427  ,\n",
       "             0.9794935 , 0.9991108 , 1.0252897 , 1.028355  , 0.9469382 ,\n",
       "             0.9816317 , 0.96177113, 0.98469675, 0.94408315, 0.94182384,\n",
       "             0.9980068 , 0.96714145, 0.99940336, 0.9578473 , 0.9504576 ,\n",
       "             1.0207237 , 0.97743964, 1.0247011 , 0.97214663, 1.0368525 ,\n",
       "             0.9785824 , 0.9755302 , 1.002015  , 0.9824111 , 1.0327212 ,\n",
       "             0.98769414, 0.96903634, 0.9621847 , 0.9900697 , 0.946734  ,\n",
       "             0.9961212 , 0.91320467, 1.0329238 , 0.9154978 , 1.039371  ],            dtype=float32)"
      ]
     },
     "execution_count": 47,
     "metadata": {},
     "output_type": "execute_result"
    }
   ],
   "source": [
    "skim.logger.get_final_params()[1]['U_tilde']"
   ]
  },
  {
   "cell_type": "code",
   "execution_count": null,
   "id": "9d5ff09e",
   "metadata": {},
   "outputs": [],
   "source": []
  }
 ],
 "metadata": {
  "kernelspec": {
   "display_name": "Python 3 (ipykernel)",
   "language": "python",
   "name": "python3"
  },
  "language_info": {
   "codemirror_mode": {
    "name": "ipython",
    "version": 3
   },
   "file_extension": ".py",
   "mimetype": "text/x-python",
   "name": "python",
   "nbconvert_exporter": "python",
   "pygments_lexer": "ipython3",
   "version": "3.9.12"
  }
 },
 "nbformat": 4,
 "nbformat_minor": 5
}
