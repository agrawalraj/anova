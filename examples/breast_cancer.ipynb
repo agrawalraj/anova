{
 "cells": [
  {
   "cell_type": "code",
   "execution_count": 1,
   "id": "2c6f3b0f",
   "metadata": {},
   "outputs": [],
   "source": [
    "import pandas as pd\n",
    "import numpy as np\n",
    "\n",
    "import jax.numpy as jnp\n",
    "from jax import grad, jit, vmap\n",
    "from jax import random\n",
    "import jax\n",
    "import math\n",
    "\n",
    "from fava.inference.fit import GaussianSKIMFA\n",
    "from fava.basis.maps import LinearBasis, RepeatedFiniteBasis, TreeBasis\n",
    "from fava.misc.scheduler import constantScheduler\n",
    "from fava.misc.logger import GausLogger\n",
    "from fava.decomposers.tensor_product import TensorProductKernelANOVA, LinearANOVA\n",
    "from sklearn.ensemble import RandomForestClassifier\n",
    "from sklearn.model_selection import train_test_split\n",
    "from sklearn.metrics import roc_auc_score\n",
    "from sklearn.linear_model import RidgeCV\n",
    "from sklearn.preprocessing import PolynomialFeatures\n"
   ]
  },
  {
   "cell_type": "markdown",
   "id": "ea675343",
   "metadata": {},
   "source": [
    "# Load and process data"
   ]
  },
  {
   "cell_type": "code",
   "execution_count": 2,
   "id": "af89a973",
   "metadata": {},
   "outputs": [],
   "source": [
    "data = pd.read_csv('../../breast_cancer.csv')\n",
    "data = data.sample(frac=1, random_state=23) # shuffle all the data"
   ]
  },
  {
   "cell_type": "code",
   "execution_count": 3,
   "id": "1d979abe",
   "metadata": {},
   "outputs": [],
   "source": [
    "X = data.drop(['diagnosis'], axis=1).values.copy()\n",
    "Y = 2 * data['diagnosis'].apply(lambda x: x == 'M').astype(np.int32).values - 1 # -1 1 labels"
   ]
  },
  {
   "cell_type": "code",
   "execution_count": 4,
   "id": "343139bd",
   "metadata": {},
   "outputs": [],
   "source": [
    "X_train, X_valid, Y_train, Y_valid = train_test_split(X, Y, test_size=.2, random_state=42)\n"
   ]
  },
  {
   "cell_type": "markdown",
   "id": "d0f2b189",
   "metadata": {},
   "source": [
    "# Random Forest Fit"
   ]
  },
  {
   "cell_type": "code",
   "execution_count": 5,
   "id": "5f2cd54a",
   "metadata": {},
   "outputs": [
    {
     "name": "stdout",
     "output_type": "stream",
     "text": [
      "Random Forest AUROC: 0.997229916897507\n",
      "Random Forest Brier Score: 0.020046255789473687\n"
     ]
    }
   ],
   "source": [
    "f = RandomForestClassifier(n_estimators=5000, oob_score=True, random_state=32)\n",
    "f.fit(X_train, Y_train)\n",
    "\n",
    "print(f'Random Forest AUROC: {roc_auc_score(Y_valid, f.predict_proba(X_valid)[:, 1])}')\n",
    "print(f'Random Forest Brier Score: {(( (Y_valid + 1) / 2 - f.predict_proba(X_valid)[:, 1]) ** 2).mean()}')"
   ]
  },
  {
   "cell_type": "markdown",
   "id": "f508dbd2",
   "metadata": {},
   "source": [
    "# SKIM-FA fit"
   ]
  },
  {
   "cell_type": "code",
   "execution_count": 6,
   "id": "d05f9ad1",
   "metadata": {},
   "outputs": [
    {
     "name": "stderr",
     "output_type": "stream",
     "text": [
      "WARNING:absl:No GPU/TPU found, falling back to CPU. (Set TF_CPP_MIN_LOG_LEVEL=0 and rerun for more info.)\n",
      "  0%|                                                                                                                | 0/1000 [00:00<?, ?it/s]"
     ]
    },
    {
     "name": "stdout",
     "output_type": "stream",
     "text": [
      "============================== Iteration 0/1000 ==============================\n",
      "There are 30 covariates selected.\n"
     ]
    },
    {
     "name": "stderr",
     "output_type": "stream",
     "text": [
      "\r",
      "  0%|                                                                                                        | 1/1000 [00:03<56:37,  3.40s/it]"
     ]
    },
    {
     "name": "stdout",
     "output_type": "stream",
     "text": [
      "MSE (Validation)=0.20892752707004547.\n",
      "R2 (Validation)=0.764956533908844.\n",
      "eta=[0.9999941 1.0000097]\n",
      "kappa=[0.4999523  0.49996924 0.49986637 0.5000332  0.4999959  0.5000249\n",
      " 0.50002855 0.5000076  0.50002    0.49999544 0.50002396 0.4999767\n",
      " 0.5000925  0.4995858  0.5000071  0.5000049  0.50002617 0.50003105\n",
      " 0.50000054 0.4999902  0.50015247 0.50018716 0.49999863 0.49981734\n",
      " 0.4999586  0.49999735 0.500196   0.4999951  0.5000445  0.50002503]\n"
     ]
    },
    {
     "name": "stderr",
     "output_type": "stream",
     "text": [
      " 10%|██████████▍                                                                                           | 102/1000 [00:11<01:16, 11.71it/s]"
     ]
    },
    {
     "name": "stdout",
     "output_type": "stream",
     "text": [
      "============================== Iteration 100/1000 ==============================\n",
      "There are 30 covariates selected.\n",
      "MSE (Validation)=0.20967534184455872.\n",
      "R2 (Validation)=0.7641152143478394.\n",
      "eta=[0.99928135 0.9893823 ]\n",
      "kappa=[0.49395093 0.4968469  0.48499846 0.50349605 0.49955755 0.5028231\n",
      " 0.50360286 0.5002329  0.5018198  0.4994936  0.5037173  0.49793765\n",
      " 0.50915277 0.44877052 0.5009999  0.5002528  0.5013537  0.50324\n",
      " 0.50006104 0.49902192 0.513411   0.51762193 0.49973267 0.4803483\n",
      " 0.49578992 0.49972117 0.51849145 0.4994534  0.5045654  0.5023072 ]\n"
     ]
    },
    {
     "name": "stderr",
     "output_type": "stream",
     "text": [
      " 20%|████████████████████▌                                                                                 | 202/1000 [00:19<01:09, 11.43it/s]"
     ]
    },
    {
     "name": "stdout",
     "output_type": "stream",
     "text": [
      "============================== Iteration 200/1000 ==============================\n",
      "There are 30 covariates selected.\n",
      "MSE (Validation)=0.21078018844127655.\n",
      "R2 (Validation)=0.7628722786903381.\n",
      "eta=[0.9986278  0.97989154]\n",
      "kappa=[0.48838654 0.493537   0.47013807 0.5050639  0.49909306 0.5056374\n",
      " 0.5068432  0.500428   0.50355554 0.49899703 0.5136377  0.4963798\n",
      " 0.5177567  0.37162012 0.5022166  0.49968463 0.50235367 0.5052271\n",
      " 0.50011796 0.49787027 0.52482164 0.5328068  0.49929404 0.46186447\n",
      " 0.49149448 0.49945292 0.5342841  0.49884897 0.50873107 0.5044566 ]\n"
     ]
    },
    {
     "name": "stderr",
     "output_type": "stream",
     "text": [
      " 30%|██████████████████████████████▊                                                                       | 302/1000 [00:27<00:56, 12.26it/s]"
     ]
    },
    {
     "name": "stdout",
     "output_type": "stream",
     "text": [
      "============================== Iteration 300/1000 ==============================\n",
      "There are 30 covariates selected.\n",
      "MSE (Validation)=0.20851150155067444.\n",
      "R2 (Validation)=0.7654245495796204.\n",
      "eta=[0.9980637  0.98617077]\n",
      "kappa=[0.48405337 0.48980367 0.45621136 0.5036365  0.4985603  0.5084692\n",
      " 0.50976676 0.5007355  0.5052687  0.49858493 0.5310492  0.49554425\n",
      " 0.52624285 0.24852139 0.50367725 0.49811757 0.5029175  0.5056174\n",
      " 0.50016737 0.49649525 0.534291   0.54623985 0.4983741  0.4473979\n",
      " 0.48706514 0.49916232 0.54782826 0.49842265 0.51256126 0.5065927 ]\n"
     ]
    },
    {
     "name": "stderr",
     "output_type": "stream",
     "text": [
      " 40%|█████████████████████████████████████████                                                             | 402/1000 [00:35<00:51, 11.63it/s]"
     ]
    },
    {
     "name": "stdout",
     "output_type": "stream",
     "text": [
      "============================== Iteration 400/1000 ==============================\n",
      "There are 30 covariates selected.\n",
      "MSE (Validation)=0.21230383217334747.\n",
      "R2 (Validation)=0.7611581683158875.\n",
      "eta=[0.997593 1.047674]\n",
      "kappa=[0.481453   0.484957   0.44368505 0.49769223 0.49781233 0.5106841\n",
      " 0.51271886 0.5021337  0.50716555 0.49841046 0.5526182  0.49552268\n",
      " 0.53548485 0.12630111 0.505393   0.4958729  0.5027573  0.50417\n",
      " 0.5002398  0.49475753 0.54211676 0.55767524 0.4959709  0.44386363\n",
      " 0.48221105 0.49884102 0.5596645  0.49843967 0.51605725 0.50878435]\n"
     ]
    },
    {
     "name": "stderr",
     "output_type": "stream",
     "text": [
      " 50%|███████████████████████████████████████████████████▏                                                  | 502/1000 [00:42<00:40, 12.33it/s]"
     ]
    },
    {
     "name": "stdout",
     "output_type": "stream",
     "text": [
      "============================== Iteration 500/1000 ==============================\n",
      "There are 30 covariates selected.\n",
      "MSE (Validation)=0.2135133147239685.\n",
      "R2 (Validation)=0.7597975134849548.\n",
      "eta=[0.9972017 1.1392624]\n",
      "kappa=[0.4790299  0.47924173 0.43061647 0.487924   0.49671572 0.511621\n",
      " 0.5157318  0.50463516 0.5093824  0.49852374 0.5709492  0.4961059\n",
      " 0.5456702  0.07170773 0.5073257  0.49376893 0.50203323 0.50210947\n",
      " 0.500364   0.4927427  0.5488277  0.5674151  0.49200356 0.44966596\n",
      " 0.47692016 0.4982413  0.57037413 0.49860728 0.5192956  0.5107618 ]\n"
     ]
    },
    {
     "name": "stderr",
     "output_type": "stream",
     "text": [
      " 60%|█████████████████████████████████████████████████████████████▍                                        | 602/1000 [00:50<00:33, 11.94it/s]"
     ]
    },
    {
     "name": "stdout",
     "output_type": "stream",
     "text": [
      "============================== Iteration 600/1000 ==============================\n",
      "There are 30 covariates selected.\n",
      "MSE (Validation)=0.21358071267604828.\n",
      "R2 (Validation)=0.7597216963768005.\n",
      "eta=[0.996895  1.2240659]\n",
      "kappa=[0.4755411  0.47407752 0.415507   0.4769899  0.49508476 0.51210445\n",
      " 0.51863635 0.50672024 0.5118856  0.49877155 0.5858394  0.49721706\n",
      " 0.55571246 0.04633993 0.50957215 0.49219003 0.5012892  0.50008464\n",
      " 0.50046885 0.4906608  0.55514354 0.5764613  0.48814562 0.45307305\n",
      " 0.4710019  0.49774286 0.58019394 0.4987589  0.5222183  0.5125569 ]\n"
     ]
    },
    {
     "name": "stderr",
     "output_type": "stream",
     "text": [
      " 70%|███████████████████████████████████████████████████████████████████████▌                              | 702/1000 [00:58<00:25, 11.51it/s]"
     ]
    },
    {
     "name": "stdout",
     "output_type": "stream",
     "text": [
      "============================== Iteration 700/1000 ==============================\n",
      "There are 30 covariates selected.\n",
      "MSE (Validation)=0.21444213390350342.\n",
      "R2 (Validation)=0.7587525844573975.\n",
      "eta=[0.9980539 1.2911097]\n",
      "kappa=[0.47048777 0.469231   0.3972225  0.46708366 0.49244854 0.51086247\n",
      " 0.5192292  0.5074142  0.5141978  0.49904746 0.6001118  0.49949026\n",
      " 0.56487054 0.03206826 0.5113926  0.48833743 0.5036757  0.49799693\n",
      " 0.50053656 0.48901448 0.562169   0.5855473  0.4842901  0.45174184\n",
      " 0.46392897 0.4970194  0.5875097  0.49876934 0.5252129  0.5140404 ]\n"
     ]
    },
    {
     "name": "stderr",
     "output_type": "stream",
     "text": [
      " 80%|█████████████████████████████████████████████████████████████████████████████████▌                    | 800/1000 [01:06<00:15, 12.79it/s]"
     ]
    },
    {
     "name": "stdout",
     "output_type": "stream",
     "text": [
      "============================== Iteration 800/1000 ==============================\n",
      "There are 30 covariates selected.\n",
      "MSE (Validation)=0.21456177532672882.\n",
      "R2 (Validation)=0.7586179971694946.\n",
      "eta=[0.99425656 1.3325282 ]\n",
      "kappa=[0.46282974 0.46446425 0.37392107 0.4631202  0.48727924 0.5045488\n",
      " 0.5117285  0.50343716 0.5158147  0.49923712 0.6166246  0.5050145\n",
      " 0.572452   0.02312083 0.5110954  0.4756329  0.5153906  0.49538684\n",
      " 0.500466   0.48871168 0.5730418  0.59569407 0.48134163 0.44260147\n",
      " 0.4542522  0.49636623 0.58981514 0.49846232 0.5291336  0.51469916]\n"
     ]
    },
    {
     "name": "stderr",
     "output_type": "stream",
     "text": [
      " 90%|████████████████████████████████████████████████████████████████████████████████████████████          | 902/1000 [01:14<00:08, 11.48it/s]"
     ]
    },
    {
     "name": "stdout",
     "output_type": "stream",
     "text": [
      "============================== Iteration 900/1000 ==============================\n",
      "There are 30 covariates selected.\n",
      "MSE (Validation)=0.21482402086257935.\n",
      "R2 (Validation)=0.7583229541778564.\n",
      "eta=[0.986191  1.3689477]\n",
      "kappa=[0.4548454  0.45924145 0.3499472  0.45663518 0.4828022  0.49993935\n",
      " 0.5068464  0.50084585 0.5177235  0.49947083 0.6290277  0.5094496\n",
      " 0.580177   0.01792253 0.5110628  0.46418282 0.5223138  0.4935576\n",
      " 0.5004358  0.4879491  0.5812498  0.60434693 0.47803554 0.43345958\n",
      " 0.44445723 0.4956367  0.59391063 0.49831104 0.5321527  0.51540196]\n"
     ]
    },
    {
     "name": "stderr",
     "output_type": "stream",
     "text": [
      "100%|█████████████████████████████████████████████████████████████████████████████████████████████████████| 1000/1000 [01:22<00:00, 12.15it/s]\n"
     ]
    }
   ],
   "source": [
    "X_train = jnp.array(X_train)\n",
    "X_valid = jnp.array(X_valid)\n",
    "Y_train = jnp.array(np.array(Y_train, dtype=np.float32))\n",
    "Y_valid = jnp.array(np.array(Y_valid, dtype=np.float32))\n",
    "\n",
    "key = random.PRNGKey(0)\n",
    "p = X.shape[1]\n",
    "\n",
    "kernel_params = dict()\n",
    "Q = 1\n",
    "kernel_params['U_tilde'] = jnp.ones(p)\n",
    "kernel_params['eta'] = jnp.ones(Q+1)\n",
    "\n",
    "hyperparams = dict()\n",
    "hyperparams['sigma_sq'] = .5 #\n",
    "hyperparams['c'] = 0.\n",
    "\n",
    "opt_params = dict()\n",
    "opt_params['cg'] = True\n",
    "opt_params['cg_tol'] = .01\n",
    "opt_params['M'] = 100\n",
    "opt_params['gamma'] = .1\n",
    "opt_params['T'] = 1000\n",
    "\n",
    "featprocessor = LinearBasis(X_train)\n",
    "\n",
    "scheduler = constantScheduler()\n",
    "logger = GausLogger(100)\n",
    "\n",
    "opt_params['scheduler'] = scheduler\n",
    "\n",
    "skim = GaussianSKIMFA(X_train, Y_train, X_valid, Y_valid, featprocessor)\n",
    "\n",
    "skim.fit(key, hyperparams, kernel_params, opt_params, \n",
    "            logger=GausLogger())"
   ]
  },
  {
   "cell_type": "code",
   "execution_count": 7,
   "id": "4974db91",
   "metadata": {},
   "outputs": [
    {
     "name": "stdout",
     "output_type": "stream",
     "text": [
      "SKIM-FA AUROC: 0.997229916897507\n",
      "SKIM-FA Brier Score: 0.21482402086257935\n"
     ]
    }
   ],
   "source": [
    "print(f'SKIM-FA AUROC: {roc_auc_score(Y_valid, skim.predict(X_valid))}')\n",
    "print(f'SKIM-FA Brier Score: {((Y_valid - skim.predict(X_valid)) ** 2).mean()}')\n"
   ]
  },
  {
   "cell_type": "markdown",
   "id": "5c9a118b",
   "metadata": {},
   "source": [
    "# Since we treat the classification task as a regression task, SKIM-FA has poor probability estimates even though it has high discrimination (AUROC nearly 1). To correct for this bias, we use Platt scaling."
   ]
  },
  {
   "cell_type": "code",
   "execution_count": 8,
   "id": "bd3acc3f",
   "metadata": {},
   "outputs": [],
   "source": [
    "# We should really use 5-fold CV for platt scaling here...\n",
    "from sklearn.linear_model import LogisticRegression"
   ]
  },
  {
   "cell_type": "code",
   "execution_count": 9,
   "id": "a7b83715",
   "metadata": {},
   "outputs": [],
   "source": [
    "platt = LogisticRegression(penalty=None, fit_intercept=True)\n",
    "skim_train_scores = np.array(skim.predict(X_train)).reshape((X_train.shape[0],1))\n",
    "skim_val_scores = np.array(skim.predict(X_valid)).reshape((X_valid.shape[0],1))"
   ]
  },
  {
   "cell_type": "code",
   "execution_count": 10,
   "id": "009c4dc0",
   "metadata": {},
   "outputs": [],
   "source": [
    "clf = LogisticRegression(random_state=0).fit(skim_train_scores, np.array(Y_train))"
   ]
  },
  {
   "cell_type": "code",
   "execution_count": 11,
   "id": "4f364fac",
   "metadata": {},
   "outputs": [
    {
     "name": "stdout",
     "output_type": "stream",
     "text": [
      "SKIM-FA Platt Brier Score: 0.02111034467816353\n"
     ]
    }
   ],
   "source": [
    "print(f'SKIM-FA Platt Brier Score: {(( (Y_valid + 1) / 2 - clf.predict_proba(skim_val_scores)[:, 1]) ** 2).mean()}')\n"
   ]
  },
  {
   "cell_type": "code",
   "execution_count": 12,
   "id": "abb469dd",
   "metadata": {},
   "outputs": [],
   "source": [
    "from sklearn.calibration import calibration_curve"
   ]
  },
  {
   "cell_type": "code",
   "execution_count": 13,
   "id": "a4d6f46a",
   "metadata": {},
   "outputs": [
    {
     "data": {
      "text/plain": [
       "(array([0.        , 0.        , 0.        , 0.65217391, 1.        ]),\n",
       " array([0.0017444 , 0.01274638, 0.04941643, 0.57116257, 0.99684133]))"
      ]
     },
     "execution_count": 13,
     "metadata": {},
     "output_type": "execute_result"
    }
   ],
   "source": [
    "calibration_curve((Y_valid + 1) / 2, clf.predict_proba(skim_val_scores)[:, 1], strategy='quantile')"
   ]
  }
 ],
 "metadata": {
  "kernelspec": {
   "display_name": "Python 3 (ipykernel)",
   "language": "python",
   "name": "python3"
  },
  "language_info": {
   "codemirror_mode": {
    "name": "ipython",
    "version": 3
   },
   "file_extension": ".py",
   "mimetype": "text/x-python",
   "name": "python",
   "nbconvert_exporter": "python",
   "pygments_lexer": "ipython3",
   "version": "3.9.12"
  }
 },
 "nbformat": 4,
 "nbformat_minor": 5
}
